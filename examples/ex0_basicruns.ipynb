{
 "cells": [
  {
   "cell_type": "markdown",
   "id": "bab04994-1742-489e-9812-33923a39f9f0",
   "metadata": {},
   "source": [
    "# basic test for brib"
   ]
  },
  {
   "cell_type": "code",
   "execution_count": null,
   "id": "d928618f-6a17-4818-b735-db835b07d2f0",
   "metadata": {},
   "outputs": [],
   "source": [
    "import numpy as np\n",
    "import matplotlib.pyplot as plt\n",
    "import rexpi\n",
    "print(\"rexpi version = %s\" % rexpi.__version__)"
   ]
  },
  {
   "cell_type": "markdown",
   "id": "e37613a0-ce6d-4b09-b860-8bf51dbbb9e3",
   "metadata": {},
   "source": [
    "### define setup"
   ]
  },
  {
   "cell_type": "code",
   "execution_count": null,
   "id": "1721ef97-49cf-4b5a-9608-0e14cd601779",
   "metadata": {},
   "outputs": [],
   "source": [
    "n=5\n",
    "tol=1e-8\n",
    "w = rexpi.west(n, tol)\n",
    "wmax = (n+1)*np.pi\n",
    "print(\"use n = %d and w = %f (max w \\u2248%.2f). computed for error objective epsilon = %.2e\"%(n,w,wmax,tol))"
   ]
  },
  {
   "cell_type": "markdown",
   "id": "cbf436a5-19b6-456a-8a2a-816ba59ca5cd",
   "metadata": {},
   "source": [
    "### compute best approximation"
   ]
  },
  {
   "cell_type": "code",
   "execution_count": null,
   "id": "a8d07afd-9eed-46be-b1e9-f201c7c8e7af",
   "metadata": {},
   "outputs": [],
   "source": [
    "r, info = rexpi.brib(w,n,info=1)\n",
    "print(\"used %d iterations, error = %.2e, deviation = %.2e\"%(info['iterations'],info['err'],info['dev']))"
   ]
  },
  {
   "cell_type": "markdown",
   "id": "f9a6c433-b6a7-4809-8de9-d4cad8a8c1a2",
   "metadata": {},
   "source": [
    "# generate various plots\n",
    "### plot approximation error on [-1,1]"
   ]
  },
  {
   "cell_type": "code",
   "execution_count": null,
   "id": "6e65bb3d-88fb-4bc6-99c2-bde6fef1cdcf",
   "metadata": {},
   "outputs": [],
   "source": [
    "xs = np.linspace(-1,1,3000)\n",
    "err = r(1j*xs)-np.exp(1j*w*xs)\n",
    "errmax = np.max(abs(err))\n",
    "plt.semilogy(xs,abs(err),[-1,1],[errmax,errmax],':');\n",
    "plt.ylabel(\"$|r(\\mathrm{i}x)-\\mathrm{e}^{\\mathrm{i}\\omega x}|$\")\n",
    "plt.xlabel(\"$x$\");\n",
    "plt.title(\"approximation error, $n=%d$, $\\omega\\\\approx %.4f$\"%(n,w));"
   ]
  },
  {
   "cell_type": "markdown",
   "id": "41b8d646-d15f-4f83-92ed-15ed86597c82",
   "metadata": {},
   "source": [
    "### plot phase error on [-1,1]"
   ]
  },
  {
   "cell_type": "code",
   "execution_count": null,
   "id": "1c04f6ed-e29f-43bc-b6a2-a954b65176a4",
   "metadata": {},
   "outputs": [],
   "source": [
    "phaseerr = np.angle(r(1j*xs)/np.exp(1j*w*xs))\n",
    "phaseerrmax = max(abs(phaseerr))\n",
    "plt.plot([-1,1],[0,0],'k:',[-1,1],[phaseerrmax,phaseerrmax],'k:',[-1,1],[-phaseerrmax,-phaseerrmax],'k:')\n",
    "plt.plot(xs,phaseerr);\n",
    "plt.ylabel(\"$g(x)-\\omega x$\")\n",
    "plt.xlabel(\"$x$\");\n",
    "plt.title(\"phase error, $n=%d$, $\\omega\\\\approx%.4f$\"%(n,w));\n",
    "#plt.savefig(\"phaseerror.png\")"
   ]
  },
  {
   "cell_type": "markdown",
   "id": "c233295b-7fde-4afd-9344-7f7d28200ab6",
   "metadata": {},
   "source": [
    "### plot error path in complex plane\n",
    "error at points of equioscillating phase error is numbered in ascending order"
   ]
  },
  {
   "cell_type": "code",
   "execution_count": null,
   "id": "3d713098-d54c-4f7e-ad4e-b4883144e3a9",
   "metadata": {},
   "outputs": [],
   "source": [
    "pcirc=np.linspace(0,2*np.pi,100)\n",
    "plt.plot(errmax*np.cos(pcirc),errmax*np.sin(pcirc),'k:')\n",
    "plt.plot(np.real(err),np.imag(err));\n",
    "for j,eta in enumerate(info['eta']):\n",
    "    erreta = r(1j*eta)-np.exp(1j*w*eta)\n",
    "    plt.text(erreta.real, erreta.imag, str(j+n+2), fontsize=12)\n",
    "    plt.text(erreta.real, -erreta.imag, str(n+1-j), fontsize=12)\n",
    "plt.title(\"path of error for $x\\in[-1,1]$, $n=%d$, $\\omega\\\\approx %.4f$\"%(n,w))\n",
    "plt.ylabel(\"Im $r(\\mathrm{i} x)-\\mathrm{e}^{\\mathrm{i}\\omega x}$\")\n",
    "plt.xlabel(\"Re $r(\\mathrm{i} x)-\\mathrm{e}^{\\mathrm{i}\\omega x}$\");\n"
   ]
  },
  {
   "cell_type": "markdown",
   "id": "3c16369e-9546-42f6-ba0c-eda5e700f4a6",
   "metadata": {},
   "source": [
    "### plot error in complex plane"
   ]
  },
  {
   "cell_type": "code",
   "execution_count": null,
   "id": "740982a7-f31c-4d40-95ad-9b64cb6c2edc",
   "metadata": {},
   "outputs": [],
   "source": [
    "reftol = 10.0**(int(np.log10(tol))-1)\n",
    "ntags = abs(int(np.log10(tol))-2)\n",
    "tagslist = np.geomspace(reftol,1,ntags)\n",
    "fmt = lambda x : \"%.1e\"%x\n",
    "\n",
    "nim=400\n",
    "nre=151\n",
    "ximag = np.linspace(-1.4, 1.4, nim)\n",
    "xreal = np.linspace(-2.0, 0.4, nre)\n",
    "X, Y = np.meshgrid(xreal, ximag)\n",
    "zall = (X+1j*Y).flatten()\n",
    "\n",
    "# evaluate in barycentric rational form\n",
    "rz = r(zall)\n",
    "errorvec = abs(rz-np.exp(w*zall))\n",
    "Z = np.reshape(errorvec,(nim,nre))\n",
    "\n",
    "fig, ax = plt.subplots()\n",
    "\n",
    "CS = ax.contour(X, Y, Z, levels=tagslist, locator=plt.LogLocator())\n",
    "ax.clabel(CS, inline=1, fontsize=10, fmt=fmt)\n",
    "plt.ylabel(\"Im $z$\")\n",
    "plt.xlabel(\"Re $z$\");\n",
    "plt.title(\"approximation error $\\log_{10}|r(z)-\\mathrm{e}^{\\omega z}|$, $n=%d$, $\\omega\\\\approx %.4f$\"%(n,w));\n"
   ]
  },
  {
   "cell_type": "markdown",
   "id": "9d19e9cc-d805-4c14-9210-0b112a5fca73",
   "metadata": {},
   "source": [
    "### plot $|r(z)|$ in complex plane\n",
    "stability properties imply $|r(z)|<1$ for $\\text{Re}\\,z < 0$"
   ]
  },
  {
   "cell_type": "code",
   "execution_count": null,
   "id": "961d7d36-71a4-4685-941f-f81319dbbbce",
   "metadata": {},
   "outputs": [],
   "source": [
    "nim=800\n",
    "nre=300\n",
    "ximag = np.linspace(-3.4, 3.4, nim)\n",
    "xreal = np.linspace(-1.0, 0.2, nre)\n",
    "X, Y = np.meshgrid(xreal, ximag)\n",
    "zall = (X+1j*Y).flatten()\n",
    "\n",
    "# evaluate in barycentric rational form\n",
    "rz = r(zall)\n",
    "absvec = abs(rz)\n",
    "Zabsbary = np.reshape(absvec,(nim,nre))\n",
    "\n",
    "# reference\n",
    "absvec = abs(np.exp(w*zall))\n",
    "Zabsref = np.reshape(absvec,(nim,nre))\n",
    "\n",
    "\n",
    "tagslist = list(np.linspace(0.1,1.9,7))\n",
    "fig, (ax1,ax2) = plt.subplots(2,1,figsize=(6, 6))\n",
    "\n",
    "ax1.title.set_text('absolute value $|r(z)|$')\n",
    "reftol = int(np.log10(tol))-1\n",
    "CS = ax1.contour(X, Y, (Zabsbary), levels=tagslist)\n",
    "ax1.clabel(CS, inline=1, fontsize=10)\n",
    "ax1.set_ylabel(\"Im $z$\")\n",
    "ax1.axes.xaxis.set_ticklabels([])\n",
    "\n",
    "ax2.title.set_text('reference $|\\mathrm{e}^{\\omega z}|$')\n",
    "CS = plt.contour(X, Y, (Zabsref), levels=tagslist)\n",
    "ax2.clabel(CS, inline=1, fontsize=10)\n",
    "ax2.set_ylabel(\"Im $z$\")\n",
    "ax2.set_xlabel(\"Re $z$\");\n",
    "\n",
    "\n",
    "#plt.title(\"approximation error $\\log_{10}|r(z)-\\mathrm{e}^{\\omega z}|$, $n=%d$, $\\omega\\\\approx %.4f$\"%(n,w));\n",
    "\n",
    "import tikzplotlib\n",
    "figname = \"errinC\"\n",
    "figscaling = 1.3\n",
    "tikzheight, tikzwidth = figscaling*6, figscaling*8\n",
    "tikzplotlib.save(figname+\".tex\", axis_height='{:.2f}cm'.format(tikzheight), axis_width = '{:.2f}cm'.format(tikzwidth))\n"
   ]
  },
  {
   "cell_type": "markdown",
   "id": "582ef2b8-86f2-45b4-91c8-41898e1abb2e",
   "metadata": {},
   "source": [
    "### plot poles in complex plane"
   ]
  },
  {
   "cell_type": "code",
   "execution_count": null,
   "id": "5b95ba99-8a77-4e2d-9961-29d61fe96ec5",
   "metadata": {},
   "outputs": [],
   "source": [
    "sj = r.getpoles(sym=True)\n",
    "plt.plot(sj.real,sj.imag,'x')\n",
    "plt.ylabel(\"Im $s_j$\")\n",
    "plt.xlabel(\"Re $s_j$\");\n",
    "plt.title(\"poles $s_j$ for $j=1,..,n$ with $n=%d$, $\\omega\\\\approx %.4f$\"%(n,w));"
   ]
  },
  {
   "cell_type": "code",
   "execution_count": null,
   "id": "1b133734-c14e-4b0e-aeaf-b724ee175750",
   "metadata": {},
   "outputs": [],
   "source": []
  }
 ],
 "metadata": {
  "kernelspec": {
   "display_name": "Python 3 (ipykernel)",
   "language": "python",
   "name": "python3"
  },
  "language_info": {
   "codemirror_mode": {
    "name": "ipython",
    "version": 3
   },
   "file_extension": ".py",
   "mimetype": "text/x-python",
   "name": "python",
   "nbconvert_exporter": "python",
   "pygments_lexer": "ipython3",
   "version": "3.9.13"
  }
 },
 "nbformat": 4,
 "nbformat_minor": 5
}
