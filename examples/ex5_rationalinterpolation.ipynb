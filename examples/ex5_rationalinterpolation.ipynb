{
 "cells": [
  {
   "cell_type": "markdown",
   "id": "bab04994-1742-489e-9812-33923a39f9f0",
   "metadata": {},
   "source": [
    "# compare unitary best approximant with rational interpolation at Chebyshev nodes"
   ]
  },
  {
   "cell_type": "code",
   "execution_count": 1,
   "id": "d928618f-6a17-4818-b735-db835b07d2f0",
   "metadata": {},
   "outputs": [
    {
     "name": "stdout",
     "output_type": "stream",
     "text": [
      "rexpi version = 0.0.4\n"
     ]
    }
   ],
   "source": [
    "import numpy as np\n",
    "import matplotlib.pyplot as plt\n",
    "import rexpi\n",
    "print(\"rexpi version = %s\" % rexpi.__version__)"
   ]
  },
  {
   "cell_type": "markdown",
   "id": "e37613a0-ce6d-4b09-b860-8bf51dbbb9e3",
   "metadata": {},
   "source": [
    "## for small degress $n$\n",
    "define setting"
   ]
  },
  {
   "cell_type": "code",
   "execution_count": 2,
   "id": "1721ef97-49cf-4b5a-9608-0e14cd601779",
   "metadata": {},
   "outputs": [
    {
     "name": "stdout",
     "output_type": "stream",
     "text": [
      "use n = 12 and w = 14.252659 (max w ≈40.84). computed for error objective epsilon = 1.00e-10\n"
     ]
    }
   ],
   "source": [
    "n=12\n",
    "tol=1e-10\n",
    "w = rexpi.west(n, tol)\n",
    "wmax = (n+1)*np.pi\n",
    "print(\"use n = %d and w = %f (max w \\u2248%.2f). computed for error objective epsilon = %.2e\"%(n,w,wmax,tol))"
   ]
  },
  {
   "cell_type": "markdown",
   "id": "cbf436a5-19b6-456a-8a2a-816ba59ca5cd",
   "metadata": {},
   "source": [
    "compute best approximation"
   ]
  },
  {
   "cell_type": "code",
   "execution_count": 3,
   "id": "a8d07afd-9eed-46be-b1e9-f201c7c8e7af",
   "metadata": {},
   "outputs": [
    {
     "name": "stdout",
     "output_type": "stream",
     "text": [
      "used 4 iterations, error = 9.79e-11, deviation = 1.53e-04\n"
     ]
    }
   ],
   "source": [
    "r1, info = rexpi.brib(w,n,info=1)\n",
    "print(\"used %d iterations, error = %.2e, deviation = %.2e\"%(info['iterations'],info['err'],info['dev']))\n",
    "err1 = info['err']"
   ]
  },
  {
   "cell_type": "markdown",
   "id": "e63da612-e2d0-41f6-a9c4-4ed32ae4880d",
   "metadata": {},
   "source": [
    "compare with rational interpolant at Chebyshev nodes"
   ]
  },
  {
   "cell_type": "code",
   "execution_count": 4,
   "id": "ff8f6876-05ce-4186-adaa-230e50f70bb9",
   "metadata": {},
   "outputs": [],
   "source": [
    "r2 = rexpi.riCheb(w, n)"
   ]
  },
  {
   "cell_type": "code",
   "execution_count": 5,
   "id": "2b089f32-eba6-4980-8a6f-e5add54985b4",
   "metadata": {},
   "outputs": [
    {
     "name": "stdout",
     "output_type": "stream",
     "text": [
      "error of rational interpolant = 2.78e-10\n",
      "error ratio = 2.84e+00\n"
     ]
    }
   ],
   "source": [
    "xs = np.linspace(-1,1,3000)\n",
    "err = r2(1j*xs)-np.exp(1j*w*xs)\n",
    "errmax = np.max(abs(err))\n",
    "print(\"error of rational interpolant = %.2e\"%errmax)\n",
    "print(\"error ratio = %.2e\" % (errmax/err1))"
   ]
  },
  {
   "cell_type": "markdown",
   "id": "41b9eb53-6f53-40e2-9874-0cfd3cb232e3",
   "metadata": {},
   "source": [
    "## for moderately large degrees $n$\n",
    "define setting"
   ]
  },
  {
   "cell_type": "code",
   "execution_count": 6,
   "id": "261e2083-5ac1-41d5-837d-e28c8eb6b0f8",
   "metadata": {},
   "outputs": [
    {
     "name": "stdout",
     "output_type": "stream",
     "text": [
      "use n = 64 and w = 161.128611 (max w ≈204.20). computed for error objective epsilon = 1.00e-10\n"
     ]
    }
   ],
   "source": [
    "n=64\n",
    "tol=1e-10\n",
    "w = rexpi.west(n, tol)\n",
    "wmax = (n+1)*np.pi\n",
    "print(\"use n = %d and w = %f (max w \\u2248%.2f). computed for error objective epsilon = %.2e\"%(n,w,wmax,tol))"
   ]
  },
  {
   "cell_type": "markdown",
   "id": "9bfd614e-7d69-4c4a-b8c8-17bfefdff07e",
   "metadata": {},
   "source": [
    "compute best approximation"
   ]
  },
  {
   "cell_type": "code",
   "execution_count": 7,
   "id": "b97d8170-1819-40b4-b642-da10c6686461",
   "metadata": {},
   "outputs": [
    {
     "name": "stdout",
     "output_type": "stream",
     "text": [
      "used 13 iterations, error = 9.13e-11, deviation = 6.08e-04\n"
     ]
    }
   ],
   "source": [
    "r1, info = rexpi.brib(w,n,info=1)\n",
    "print(\"used %d iterations, error = %.2e, deviation = %.2e\"%(info['iterations'],info['err'],info['dev']))\n",
    "err1 = info['err']"
   ]
  },
  {
   "cell_type": "markdown",
   "id": "be8f9591-aac2-4d6e-bf03-193c6604ec90",
   "metadata": {},
   "source": [
    "compare with rational interpolant at Chebyshev nodes"
   ]
  },
  {
   "cell_type": "code",
   "execution_count": 8,
   "id": "06365940-8a1e-4b52-bf21-5f9574272463",
   "metadata": {},
   "outputs": [],
   "source": [
    "r2 = rexpi.riCheb(w, n)"
   ]
  },
  {
   "cell_type": "code",
   "execution_count": 9,
   "id": "5eb466c0-c27e-46b1-89fb-121640872b01",
   "metadata": {},
   "outputs": [
    {
     "name": "stdout",
     "output_type": "stream",
     "text": [
      "error of rational interpolant = 2.00e+00\n",
      "error ratio = 2.19e+10\n"
     ]
    }
   ],
   "source": [
    "xs = np.linspace(-1,1,3000)\n",
    "err = r2(1j*xs)-np.exp(1j*w*xs)\n",
    "errmax = np.max(abs(err))\n",
    "print(\"error of rational interpolant = %.2e\"%errmax)\n",
    "print(\"error ratio = %.2e\" % (errmax/err1))"
   ]
  },
  {
   "cell_type": "markdown",
   "id": "e79830f8-ecd2-4ccf-b5f4-93c35f9ea136",
   "metadata": {},
   "source": [
    "increase the degree for the rational interpolant"
   ]
  },
  {
   "cell_type": "code",
   "execution_count": 10,
   "id": "440be509-4912-46fe-b3dd-b1e98368ab38",
   "metadata": {},
   "outputs": [
    {
     "name": "stdout",
     "output_type": "stream",
     "text": [
      "error of rational interpolant = 2.85e-13\n",
      "error ratio = 3.12e-03\n"
     ]
    }
   ],
   "source": [
    "n3=n+20\n",
    "r3 = rexpi.riCheb(w, n3)\n",
    "err3 = r3(1j*xs)-np.exp(1j*w*xs)\n",
    "errmax3 = np.max(abs(err3))\n",
    "print(\"error of rational interpolant = %.2e\"%errmax3)\n",
    "print(\"error ratio = %.2e\" % (errmax3/err1))"
   ]
  },
  {
   "cell_type": "code",
   "execution_count": null,
   "id": "4bd7b813-82ee-4f25-981e-2a70017a1956",
   "metadata": {},
   "outputs": [],
   "source": []
  }
 ],
 "metadata": {
  "kernelspec": {
   "display_name": "Python 3 (ipykernel)",
   "language": "python",
   "name": "python3"
  },
  "language_info": {
   "codemirror_mode": {
    "name": "ipython",
    "version": 3
   },
   "file_extension": ".py",
   "mimetype": "text/x-python",
   "name": "python",
   "nbconvert_exporter": "python",
   "pygments_lexer": "ipython3",
   "version": "3.9.13"
  }
 },
 "nbformat": 4,
 "nbformat_minor": 5
}
