{
 "cells": [
  {
   "cell_type": "code",
   "execution_count": 1,
   "id": "biological-alexandria",
   "metadata": {},
   "outputs": [],
   "source": [
    "import numpy as np\n",
    "import matplotlib.pyplot as plt\n",
    "import rexpi\n",
    "import scipy.sparse"
   ]
  },
  {
   "cell_type": "markdown",
   "id": "a492ac89-a443-4f44-bf4a-9f965be244f7",
   "metadata": {},
   "source": [
    "# Matrix exponential, diagonal case similar to scalar setting\n",
    "\n",
    "compute $\\exp(\\mathrm{i} \\omega H )u$ for a matrix $H\\in\\mathbb{C}^{k\\times k}$ and vector $u\\in\\mathbb{C}^k$."
   ]
  },
  {
   "cell_type": "code",
   "execution_count": 2,
   "id": "9bfabf90-6107-4ef5-978a-8093983a5199",
   "metadata": {},
   "outputs": [
    {
     "name": "stdout",
     "output_type": "stream",
     "text": [
      "for n=40 and tol=1e-06, our error estimate suggests w=99.651100\n",
      "run brib algorithm with tol.rel.dev = 1.00e-03, stp.fac. = 2.00e-02\n",
      "   .. done, used 142 iterations, rel. deviation = 9.99e-04\n",
      "approximation error = 2.08645340e-07\n",
      "evaluate scalar r: max|r(ix)-exp(iwx)| = 2.08e-07\n",
      "use poles: max|r(ix)-exp(iwx)| = 2.08e-07\n",
      "max |aj| = 2.04e+04, min Re(sj) = 5.77e-02\n",
      "use partial fraction: max|r(ix)-exp(iwx)| = 2.08e-07\n",
      "(computing r(iH)u via partial fraction is only accurate for r of small degree)\n"
     ]
    }
   ],
   "source": [
    "n = 40\n",
    "tol = 1e-6\n",
    "nk=10\n",
    "\n",
    "step_factor = 0.02\n",
    "nodes_pos=None\n",
    "tol=1e-6\n",
    "\n",
    "tolequi = 1e-3\n",
    "w = rexpi.buerrest_getw(n,tol)\n",
    "#w=730.0\n",
    "pchebnodes = rexpi.PositiveChebyshevNodes(n)\n",
    "wmax = (n+1)*np.pi\n",
    "pws = np.linspace(1,n/2,int(n/2))\n",
    "px=np.concatenate((pws,n/2+0.5*pws))\n",
    "trys= n/px[::-1]\n",
    "\n",
    "#snodes = pchebnodes + (-1+(n+2+np.arange(n))/(n+1)-pchebnodes)*(w/wmax)**trys\n",
    "#snodes=gn\n",
    "print(\"for n=%d and tol=%g, our error estimate suggests w=%f\"%(n,tol,w))\n",
    "print(\"run brib algorithm with tol.rel.dev = %.2e, stp.fac. = %.2e\" %(tolequi,step_factor))\n",
    "rx, brnodes, allerr = rexpi.brib(w = w, n = n, npi=50, nodes_pos = nodes_pos,\n",
    "                                   maxiter = 1200, tolequi = tolequi, step_factor=step_factor,syminterp=True)\n",
    "errlast = allerr[-1][0]\n",
    "rdev = allerr[-1][1]\n",
    "rdev_old = allerr[-1][2]\n",
    "usediter = len(allerr)\n",
    "intnodes, equnodes = brnodes[1],brnodes[0]\n",
    "nodes_pos = intnodes[intnodes>=0]\n",
    "print(\"   .. done, used %d iterations, rel. deviation = %.2e\" % (usediter,rdev))\n",
    "print(\"approximation error = %.8e\"%(errlast))\n",
    "\n",
    "poles = rx.getpoles(sym=True)\n",
    "a0, aj, sj = rx.getpartialfractioncoef(sym=True)\n",
    "\n",
    "# define diagonal matrix with spectrum between -1 and 1\n",
    "k=100\n",
    "u = np.ones(k)\n",
    "# in this example the matrix H corresponds to the diagonal matrix\n",
    "eigsH = np.linspace(-1,1,k)\n",
    "H = scipy.sparse.diags([eigsH], [0])\n",
    "\n",
    "yscalar = rx(1j*eigsH)\n",
    "yref = np.exp(1j*w*eigsH)\n",
    "\n",
    "print(\"evaluate scalar r: max|r(ix)-exp(iwx)| = %.2e\" % np.max(np.abs(yref-yscalar)))\n",
    "\n",
    "mviH = lambda x : 1j*eigsH*x\n",
    "mvSaIiH = lambda s,x : (1j*eigsH-s)**(-1)*x\n",
    "#mvSaIiH = lambda s,x : np.linalg.solve(1j*H - s*np.eye(k),x)\n",
    "#mvSaIiH = lambda s,x : (np.linalg.inv(1j*H.toarray() - s*np.eye(k))).dot(x)\n",
    "\n",
    "c0=(-1)**(n)\n",
    "ypoles = rexpi.evalr_product(mviH, mvSaIiH, u, poles, c0)\n",
    "print(\"use poles: max|r(ix)-exp(iwx)| = %.2e\" % np.max(np.abs(yref-ypoles)))\n",
    "\n",
    "yparfrac = rexpi.evalr_partialfraction(mvSaIiH, u, a0, aj, sj)\n",
    "errpf = np.max(np.abs(yref-yparfrac))\n",
    "print(\"max |aj| = %.2e, min Re(sj) = %.2e\" % (max(np.abs(aj)),min(sj.real)))\n",
    "print(\"use partial fraction: max|r(ix)-exp(iwx)| = %.2e\" % errpf)\n",
    "print(\"(computing r(iH)u via partial fraction is only accurate for r of small degree)\")"
   ]
  },
  {
   "cell_type": "code",
   "execution_count": 3,
   "id": "022f9f00-9ec2-4c70-b9ae-4f959993b35d",
   "metadata": {},
   "outputs": [
    {
     "name": "stdout",
     "output_type": "stream",
     "text": [
      "evaluate scalar r: max|r(ix)-exp(iwx)| = 2.09e-07\n",
      "use poles: max|r(ix)-exp(iwx)| = 2.09e-07\n",
      "max |aj| = 2.04e+04, min Re(sj) = 5.77e-02\n",
      "use partial fraction: max|r(ix)-exp(iwx)| = 2.09e-07\n",
      "(computing r(iH)u via partial fraction is only accurate for r of small degree)\n"
     ]
    }
   ],
   "source": [
    "# define diagonal matrix with spectrum between -1 and 1\n",
    "k=9800\n",
    "u = np.ones(k)\n",
    "# in this example the matrix H corresponds to the diagonal matrix\n",
    "eigsH = np.linspace(-1,1,k)\n",
    "yref = np.exp(1j*w*eigsH)\n",
    "\n",
    "eigsH = eigsH+np.random.rand(k)*1e-12\n",
    "H = scipy.sparse.diags([eigsH], [0])\n",
    "\n",
    "yscalar = rx(1j*eigsH)\n",
    "\n",
    "print(\"evaluate scalar r: max|r(ix)-exp(iwx)| = %.2e\" % np.max(np.abs(yref-yscalar)))\n",
    "\n",
    "mviH = lambda x : 1j*eigsH*x\n",
    "mvSaIiH = lambda s,x : (1j*eigsH-s)**(-1)*x\n",
    "#mvSaIiH = lambda s,x : np.linalg.solve(1j*H - s*np.eye(k),x)\n",
    "#mvSaIiH = lambda s,x : (np.linalg.inv(1j*H.toarray() - s*np.eye(k))).dot(x)\n",
    "\n",
    "c0=(-1)**(n)\n",
    "ypoles = rexpi.evalr_product(mviH, mvSaIiH, u, poles, c0)\n",
    "print(\"use poles: max|r(ix)-exp(iwx)| = %.2e\" % np.max(np.abs(yref-ypoles)))\n",
    "\n",
    "yparfrac = rexpi.evalr_partialfraction(mvSaIiH, u, a0, aj, sj)\n",
    "print(\"max |aj| = %.2e, min Re(sj) = %.2e\" % (max(np.abs(aj)),min(sj.real)))\n",
    "print(\"use partial fraction: max|r(ix)-exp(iwx)| = %.2e\" % np.max(np.abs(yref-yparfrac)))\n",
    "print(\"(computing r(iH)u via partial fraction is only accurate for r of small degree)\")"
   ]
  },
  {
   "cell_type": "code",
   "execution_count": null,
   "id": "36972ba9-76ad-4367-a335-db4512e9989f",
   "metadata": {},
   "outputs": [],
   "source": []
  },
  {
   "cell_type": "markdown",
   "id": "6512a6d3-37f9-428e-b110-069a39648fe5",
   "metadata": {},
   "source": [
    "### compare with Pade"
   ]
  },
  {
   "cell_type": "code",
   "execution_count": 4,
   "id": "b2fcb639-3881-4622-8011-cfe9579b9302",
   "metadata": {},
   "outputs": [
    {
     "name": "stdout",
     "output_type": "stream",
     "text": [
      "approximate exponential with Pade, same problem as above\n",
      "scalar error: max|r(iwx)-exp(iwx)| = 2.00e+00\n",
      "use poles: max|r(iwx)-exp(iwx)| = 2.00e+00\n",
      "use partial fraction: max|r(iwx)-exp(iwx)| = 1.04e+15\n"
     ]
    }
   ],
   "source": [
    "npade = n\n",
    "rpade = rexpi.pade(npade)\n",
    "\n",
    "# test scalar approximation error of pade\n",
    "ypadescalar = rpade(1j*w*eigsH)\n",
    "\n",
    "# evaluate r(iwH), argument has to be re-scaled by w\n",
    "poles2 = rpade.getpoles()\n",
    "mviHscaled = lambda x : 1j*w*eigsH*x\n",
    "mvSaIiHscaled = lambda s,x : (1j*w*eigsH-s)**(-1)*x\n",
    "c02 = (-1)**(npade)\n",
    "ypadepoles = rexpi.evalr_product(mviHscaled, mvSaIiHscaled, u, poles2, c02)\n",
    "ap0, apj, spj = rpade.getpartialfractioncoef()\n",
    "\n",
    "ypadeparfrac = rexpi.evalr_partialfraction(mvSaIiHscaled, u, ap0, apj, spj)\n",
    "\n",
    "print(\"approximate exponential with Pade, same problem as above\")\n",
    "print(\"scalar error: max|r(iwx)-exp(iwx)| = %.2e\" % np.max(np.abs(yref-ypadescalar)))\n",
    "print(\"use poles: max|r(iwx)-exp(iwx)| = %.2e\" % np.max(np.abs(yref-ypadepoles)))\n",
    "print(\"use partial fraction: max|r(iwx)-exp(iwx)| = %.2e\" % np.max(np.abs(yref-ypadeparfrac)))"
   ]
  },
  {
   "cell_type": "markdown",
   "id": "90c24053-a506-4e3e-a098-6e861bbd308b",
   "metadata": {},
   "source": [
    "### compare with polynomial Chebyshev"
   ]
  },
  {
   "cell_type": "code",
   "execution_count": 5,
   "id": "44d0f771-8b61-4d5f-9b06-af333a60fddc",
   "metadata": {},
   "outputs": [
    {
     "name": "stdout",
     "output_type": "stream",
     "text": [
      "approximate exponential with Pade, same problem as above\n",
      "scalar error: max|r(iwx)-exp(iwx)| = 1.22e+00\n",
      "by mv: max|r(iwx)-exp(iwx)| = 1.22e+00\n"
     ]
    }
   ],
   "source": [
    "ncheb = 30\n",
    "# evaluate Chebyshev approximation using Clenshaw Algorithm\n",
    "ypcheb = rexpi.eval_polynomial_chebyshev(eigsH, w, ncheb)\n",
    "# evaluate with mv using Clenshaw Algorithm\n",
    "mvH = lambda x : eigsH*x\n",
    "ypcheb2 = rexpi.chebyshev(mvH,w,u,ncheb)\n",
    "\n",
    "print(\"approximate exponential with Pade, same problem as above\")\n",
    "print(\"scalar error: max|r(iwx)-exp(iwx)| = %.2e\" % np.max(np.abs(yref-ypcheb)))\n",
    "print(\"by mv: max|r(iwx)-exp(iwx)| = %.2e\" % np.max(np.abs(yref-ypcheb2)))"
   ]
  },
  {
   "cell_type": "markdown",
   "id": "ddb60df0-0316-4b4e-aafa-dcc7ab41781e",
   "metadata": {},
   "source": [
    "## Tridiagonal matrix, errors in norm"
   ]
  },
  {
   "cell_type": "code",
   "execution_count": 6,
   "id": "bf8d0002-221c-4d66-b8ca-6b678aa3896b",
   "metadata": {},
   "outputs": [
    {
     "name": "stdout",
     "output_type": "stream",
     "text": [
      "use brib for n=40, tol=1e-06, and w=99.651100\n",
      "random starting vector u with ||u||=1, dimension k=50\n",
      "use poles: ||r(ix)-exp(iwx)|| = 1.89e-07\n",
      "use partial fraction: ||r(ix)-exp(iwx)|| = 1.89e-07\n",
      "(error in l2 norm is bounded by scalar error since the spectrum of H is in [-1,1] and ||u||=1)\n",
      "(computing r(iH)u via partial fraction is only accurate for r of small degree)\n"
     ]
    }
   ],
   "source": [
    "# with direct solver, small dimension\n",
    "nrm = lambda x : np.linalg.norm(x)\n",
    "\n",
    "print(\"use brib for n=%d, tol=%g, and w=%f\"%(n,tol,w))\n",
    "\n",
    "# define diagonal matrix with spectrum between -1 and 1\n",
    "k=50\n",
    "print(\"random starting vector u with ||u||=1, dimension k=%d\" %k)\n",
    "u = np.random.rand(k)\n",
    "u = u/nrm(u)\n",
    "\n",
    "e1 = np.ones(k-1)\n",
    "e = np.ones(k)\n",
    "o = np.zeros(k)\n",
    "\n",
    "# H is shifted Laplace operator with eigenvalues between -1 and 1\n",
    "H = scipy.sparse.diags([0.5*e1,o,0.5*e1], [-1,0,1])\n",
    "yref = scipy.sparse.linalg.expm_multiply(1j*w*H,u)\n",
    "\n",
    "mviH = lambda x : 1j*H.dot(x)\n",
    "# apply numpy solve to apply x -> (H-s*I)**-1\n",
    "#mvSaIiH = lambda s,x : np.linalg.solve(1j*H - s*np.eye(k),x)\n",
    "# apply the matrix inverse of H-s*I\n",
    "mvSaIiH = lambda s,x : (np.linalg.inv(1j*H.toarray() - s*np.eye(k))).dot(x)\n",
    "\n",
    "poles = rx.getpoles(sym=True)\n",
    "c0=(-1)**(n)\n",
    "ypoles = rexpi.evalr_product(mviH, mvSaIiH, u, poles, c0)\n",
    "print(\"use poles: ||r(ix)-exp(iwx)|| = %.2e\" % nrm(yref-ypoles))\n",
    "\n",
    "a0, aj, sj = rx.getpartialfractioncoef(sym=True)\n",
    "yparfrac = rexpi.evalr_partialfraction(mvSaIiH, u, a0, aj, sj)\n",
    "print(\"use partial fraction: ||r(ix)-exp(iwx)|| = %.2e\" % nrm(yref-yparfrac))\n",
    "print(\"(error in l2 norm is bounded by scalar error since the spectrum of H is in [-1,1] and ||u||=1)\")\n",
    "print(\"(computing r(iH)u via partial fraction is only accurate for r of small degree)\")"
   ]
  },
  {
   "cell_type": "markdown",
   "id": "4bb86a52-33ce-4e77-a9db-5a96ea0f4519",
   "metadata": {},
   "source": [
    "### use sparse solver"
   ]
  },
  {
   "cell_type": "code",
   "execution_count": 7,
   "id": "83fc8dd2-5ffe-43f7-8451-0b738ebe91ae",
   "metadata": {},
   "outputs": [
    {
     "name": "stdout",
     "output_type": "stream",
     "text": [
      "use brib for n=40, tol=1e-06, and w=99.651100\n",
      "random starting vector u with ||u||=1, dimension k=10000\n",
      "use poles: max|r(ix)-exp(iwx)| = 1.94e-07\n",
      "max|aj| = 2.04e+04\n",
      "use partial fraction: ||r(ix)-exp(iwx)|| = 1.94e-07\n",
      "(error in l2 norm is bounded by scalar error since the spectrum of H is in [-1,1] and ||u||=1)\n",
      "(computing r(iH)u via partial fraction is only accurate for r of small degree)\n"
     ]
    }
   ],
   "source": [
    "# sparse solver, large dimension\n",
    "nrm = lambda x : np.linalg.norm(x)\n",
    "\n",
    "print(\"use brib for n=%d, tol=%g, and w=%f\"%(n,tol,w))\n",
    "\n",
    "# define diagonal matrix with spectrum between -1 and 1\n",
    "k=10000\n",
    "print(\"random starting vector u with ||u||=1, dimension k=%d\"%k)\n",
    "u = np.random.rand(k)\n",
    "u = u/nrm(u)\n",
    "\n",
    "e1 = np.ones(k-1)\n",
    "e = np.ones(k)\n",
    "o = np.zeros(k)\n",
    "\n",
    "# H is shifted Laplace operator with eigenvalues between -1 and 1\n",
    "H = scipy.sparse.diags([0.5*e1,o,0.5*e1], [-1,0,1])\n",
    "yref = scipy.sparse.linalg.expm_multiply(1j*w*H,u)\n",
    "\n",
    "mviH = lambda x : 1j*H.dot(x)\n",
    "# use a banded sparse solver to compute the inverse of H-s*I\n",
    "mvSaIiH =lambda s,x : scipy.sparse.linalg.spsolve(scipy.sparse.diags([0.5j*e1,-s*e,0.5j*e1], [-1,0,1]).tocsc(), x)\n",
    "\n",
    "poles = rx.getpoles(sym=True)\n",
    "c0=(-1)**(n)\n",
    "ypoles = rexpi.evalr_product(mviH, mvSaIiH, u, poles, c0)\n",
    "print(\"use poles: max|r(ix)-exp(iwx)| = %.2e\" % nrm(yref-ypoles))\n",
    "\n",
    "a0, aj, sj = rx.getpartialfractioncoef(sym=True)\n",
    "yparfrac = rexpi.evalr_partialfraction(mvSaIiH, u, a0, aj, sj)\n",
    "print(\"max|aj| = %.2e\" % max(np.abs(aj)))\n",
    "print(\"use partial fraction: ||r(ix)-exp(iwx)|| = %.2e\" % nrm(yref-yparfrac))\n",
    "print(\"(error in l2 norm is bounded by scalar error since the spectrum of H is in [-1,1] and ||u||=1)\")\n",
    "print(\"(computing r(iH)u via partial fraction is only accurate for r of small degree)\")"
   ]
  },
  {
   "cell_type": "code",
   "execution_count": null,
   "id": "d0e57b50-0b21-4651-9847-d8eb7d38116c",
   "metadata": {},
   "outputs": [],
   "source": []
  }
 ],
 "metadata": {
  "kernelspec": {
   "display_name": "Python 3 (ipykernel)",
   "language": "python",
   "name": "python3"
  },
  "language_info": {
   "codemirror_mode": {
    "name": "ipython",
    "version": 3
   },
   "file_extension": ".py",
   "mimetype": "text/x-python",
   "name": "python",
   "nbconvert_exporter": "python",
   "pygments_lexer": "ipython3",
   "version": "3.9.13"
  }
 },
 "nbformat": 4,
 "nbformat_minor": 5
}
