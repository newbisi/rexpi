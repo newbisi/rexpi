{
 "cells": [
  {
   "cell_type": "code",
   "execution_count": 1,
   "id": "biological-alexandria",
   "metadata": {},
   "outputs": [],
   "source": [
    "import numpy as np\n",
    "import matplotlib.pyplot as plt\n",
    "import rexpi\n",
    "import time"
   ]
  },
  {
   "cell_type": "markdown",
   "id": "a492ac89-a443-4f44-bf4a-9f965be244f7",
   "metadata": {},
   "source": [
    "# evaluate r in barycentric rational form, product form and partial fraction form"
   ]
  },
  {
   "cell_type": "code",
   "execution_count": 2,
   "id": "b9c20d5d-4b1a-4c71-9e43-1004c6c715f9",
   "metadata": {},
   "outputs": [
    {
     "name": "stdout",
     "output_type": "stream",
     "text": [
      "for n=86 and tol=1e-06, our error estimate suggests w=242.438391\n",
      "... compute unitary best approximant\n",
      "used 11 iterations, error = 1.03e-06, deviation = 9.44e-04\n",
      "runtime .. 0.080784s\n"
     ]
    }
   ],
   "source": [
    "n = 86\n",
    "tol=1e-6\n",
    "tolequi = 1e-3\n",
    "w = rexpi.west(n,tol)\n",
    "print(\"for n=%d and tol=%g, our error estimate suggests w=%f\"%(n,tol,w))\n",
    "\n",
    "print(\"... compute unitary best approximant\")\n",
    "t1=time.time()\n",
    "r, info = rexpi.brib(w = w, n = n, tolequi = tolequi, info=1)\n",
    "dt = time.time()-t1\n",
    "print(\"used %d iterations, error = %.2e, deviation = %.2e\"%(info['iterations'],info['err'],info['dev']))\n",
    "print(\"runtime .. %fs\"%dt)"
   ]
  },
  {
   "cell_type": "code",
   "execution_count": 3,
   "id": "84d8fb5b-4aa2-4204-98e9-aacd8e6c9fb4",
   "metadata": {},
   "outputs": [
    {
     "name": "stdout",
     "output_type": "stream",
     "text": [
      "... compute coefficients for product and partial fraction form\n",
      "runtime .. 0.003988s\n"
     ]
    }
   ],
   "source": [
    "print(\"... compute coefficients for product and partial fraction form\")\n",
    "t1=time.time()\n",
    "a0, aj, sj = r.getpartialfractioncoef(sym=True)\n",
    "poles = sj\n",
    "dt = time.time()-t1\n",
    "print(\"runtime .. %fs\"%dt)"
   ]
  },
  {
   "cell_type": "code",
   "execution_count": 4,
   "id": "9bfabf90-6107-4ef5-978a-8093983a5199",
   "metadata": {},
   "outputs": [
    {
     "name": "stdout",
     "output_type": "stream",
     "text": [
      "evaluate r(ix) in barycentric rational form:\n",
      "approximation error max|r(ix)-exp(iwx)| = 1.03e-06\n",
      "error in unitarity  max||r(ix)|-1| = 3.33e-16\n",
      "\n",
      "in product form:\n",
      "approximation error max|r(ix)-exp(iwx)| = 1.03e-06\n",
      "error in unitarity  max||r(ix)|-1| = 1.22e-14\n",
      "\n",
      "in partial fraction form\n",
      "approximation error max|r(ix)-exp(iwx)| = 1.03e-06\n",
      "error in unitarity  max||r(ix)|-1| = 4.95e-10\n"
     ]
    }
   ],
   "source": [
    "k = 23000\n",
    "xs = np.linspace(-1,1,k)\n",
    "\n",
    "# compute reference solution\n",
    "yref = np.exp(1j*w*xs)\n",
    "\n",
    "print(\"evaluate r(ix) in barycentric rational form:\")\n",
    "yscalar = r(1j*xs)\n",
    "print(\"approximation error max|r(ix)-exp(iwx)| = %.2e\" % np.max(np.abs(yref-yscalar)))\n",
    "print(\"error in unitarity  max||r(ix)|-1| = %.2e\\n\"%max(abs(abs(yscalar)-1)))\n",
    "\n",
    "print(\"in product form:\")\n",
    "yratmat = rexpi.evalr_product_scalar(1j*xs, poles)\n",
    "print(\"approximation error max|r(ix)-exp(iwx)| = %.2e\" % np.max(np.abs(yref-yratmat)))\n",
    "print(\"error in unitarity  max||r(ix)|-1| = %.2e\\n\"%max(abs(abs(yratmat)-1)))\n",
    "\n",
    "yparfrac = rexpi.evalr_partialfraction_scalar(1j*xs, aj, sj)\n",
    "errpf = np.max(np.abs(yref-yparfrac))\n",
    "print(\"in partial fraction form\")\n",
    "print(\"approximation error max|r(ix)-exp(iwx)| = %.2e\" % errpf)\n",
    "print(\"error in unitarity  max||r(ix)|-1| = %.2e\"%max(abs(abs(yparfrac)-1)))"
   ]
  },
  {
   "cell_type": "markdown",
   "id": "54960a45-ae0e-4f1f-a67e-f1803a0e04b0",
   "metadata": {},
   "source": [
    "### same computations can be done by defining a diagonal matrix and a ones vector"
   ]
  },
  {
   "cell_type": "code",
   "execution_count": 5,
   "id": "2ecee374-6864-499c-bb67-bf9c33d5340d",
   "metadata": {},
   "outputs": [
    {
     "name": "stdout",
     "output_type": "stream",
     "text": [
      "in product form:\n",
      "max|r(ix)-exp(iwx)| = 1.03e-06\n",
      "error in unitarity max||r(ix)|-1| = 1.07e-14\n",
      "\n",
      "in partial fraction form:\n",
      "max|r(ix)-exp(iwx)| = 1.03e-06\n",
      "error in unitarity max||r(ix)|-1| = 4.95e-10\n"
     ]
    }
   ],
   "source": [
    "# define conjugate operator x -> conj(A)x\n",
    "mv = lambda b : 1j*xs*b\n",
    "# define shift-inverted operator s, x -> (A-s)^{-1}x\n",
    "mvSI = lambda s,b : 1/(1j*xs-s)*b\n",
    "b = np.ones(k)\n",
    "\n",
    "yratmat = rexpi.evalr_product(mv, mvSI, b, poles)\n",
    "print(\"in product form:\\nmax|r(ix)-exp(iwx)| = %.2e\" % np.max(np.abs(yref-yratmat)))\n",
    "print(\"error in unitarity max||r(ix)|-1| = %.2e\\n\"%max(abs(abs(yratmat)-1)))\n",
    "\n",
    "yparfrac = rexpi.evalr_partialfraction(mvSI, b, aj, sj)\n",
    "print(\"in partial fraction form:\\nmax|r(ix)-exp(iwx)| = %.2e\" % errpf)\n",
    "print(\"error in unitarity max||r(ix)|-1| = %.2e\"%max(abs(abs(yparfrac)-1)))"
   ]
  },
  {
   "cell_type": "code",
   "execution_count": null,
   "id": "eee5c17b-8ffc-44d9-9cf2-462e0582cbc5",
   "metadata": {},
   "outputs": [],
   "source": []
  }
 ],
 "metadata": {
  "kernelspec": {
   "display_name": "Python 3 (ipykernel)",
   "language": "python",
   "name": "python3"
  },
  "language_info": {
   "codemirror_mode": {
    "name": "ipython",
    "version": 3
   },
   "file_extension": ".py",
   "mimetype": "text/x-python",
   "name": "python",
   "nbconvert_exporter": "python",
   "pygments_lexer": "ipython3",
   "version": "3.9.13"
  }
 },
 "nbformat": 4,
 "nbformat_minor": 5
}
