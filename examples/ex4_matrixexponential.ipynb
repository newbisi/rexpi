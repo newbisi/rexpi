{
 "cells": [
  {
   "cell_type": "code",
   "execution_count": 1,
   "id": "biological-alexandria",
   "metadata": {},
   "outputs": [],
   "source": [
    "import numpy as np\n",
    "import matplotlib.pyplot as plt\n",
    "import rexpi\n",
    "import scipy.sparse\n",
    "import time"
   ]
  },
  {
   "cell_type": "markdown",
   "id": "a492ac89-a443-4f44-bf4a-9f965be244f7",
   "metadata": {},
   "source": [
    "# approximate action of the matrix exponential operator\n",
    "\n",
    "compute $\\exp(tA )b$ for a matrix $A\\in\\mathbb{C}^{k\\times k}$ which spectrum resides on the imaginary axis, a time-step $t$ and a vector $b\\in\\mathbb{C}^k$.\n",
    "\n",
    "The time-step $t$ can be understood as the frequency $\\omega$, i.e., $t=\\omega$."
   ]
  },
  {
   "cell_type": "code",
   "execution_count": 2,
   "id": "9bfabf90-6107-4ef5-978a-8093983a5199",
   "metadata": {},
   "outputs": [
    {
     "name": "stdout",
     "output_type": "stream",
     "text": [
      "for n=40 and tol=1e-06, our error estimate suggests w=101.765352\n",
      "... compute unitary best approximant\n",
      "used 10 iterations, error = 9.83e-07, deviation = 6.87e-05\n",
      "\n",
      "... compute coefficients for product and partial fraction form\n"
     ]
    }
   ],
   "source": [
    "n = 40\n",
    "tol=1e-6\n",
    "tolequi = 1e-3\n",
    "w = rexpi.west(n,tol)\n",
    "print(\"for n=%d and tol=%g, our error estimate suggests w=%f\"%(n,tol,w))\n",
    "\n",
    "r, info = rexpi.brib(w = w, n = n, tolequi = tolequi, info=1)\n",
    "print(\"... compute unitary best approximant\")\n",
    "print(\"used %d iterations, error = %.2e, deviation = %.2e\\n\"%(info['iterations'],info['err'],info['dev']))\n",
    "\n",
    "print(\"... compute coefficients for product and partial fraction form\")\n",
    "a0, aj, sj = r.getpartialfractioncoef(sym=True)\n",
    "poles = sj"
   ]
  },
  {
   "cell_type": "markdown",
   "id": "ddb60df0-0316-4b4e-aafa-dcc7ab41781e",
   "metadata": {},
   "source": [
    "## Tridiagonal matrix, errors in norm"
   ]
  },
  {
   "cell_type": "code",
   "execution_count": 3,
   "id": "bf8d0002-221c-4d66-b8ca-6b678aa3896b",
   "metadata": {},
   "outputs": [
    {
     "name": "stdout",
     "output_type": "stream",
     "text": [
      "r(A)b ≈ exp(wA)b where r corresponds to the unitary best approximant of degree n=40\n",
      "\n",
      "use brib for n=40, tol=1e-06, and w=101.765352\n",
      "random starting vector b with ‖b‖=1, dimension k=50\n",
      "\n",
      "evaluate y=r(A)b in product form: ‖y-exp(wA)b‖ = 8.04e-07\n",
      "error in norm, |‖y‖-‖b‖| = 6.66e-16\n",
      "\n",
      "evaluate y=r(A)b using partial fractions: ‖y-exp(wA)b‖ = 8.04e-07\n",
      "error in norm, |‖y‖-‖b‖| = 1.39e-11\n",
      "\n"
     ]
    }
   ],
   "source": [
    "# with direct solver, small dimension\n",
    "inr = lambda x,y : np.vdot(x,y)\n",
    "nrm = lambda x : np.linalg.norm(x)\n",
    "\n",
    "print(\"r(A)b \\u2248 exp(wA)b where r corresponds to the unitary best approximant of degree n=%d\\n\"%n)\n",
    "print(\"use brib for n=%d, tol=%g, and w=%f\"%(n,tol,w))\n",
    "\n",
    "# define diagonal matrix with spectrum between -1 and 1\n",
    "k=50\n",
    "print(\"random starting vector b with \\u2016b\\u2016=1, dimension k=%d\\n\" %k)\n",
    "u = np.random.rand(k)\n",
    "u = u/nrm(u)\n",
    "nrmb0 = 1\n",
    "\n",
    "e1 = np.ones(k-1)\n",
    "e = np.ones(k)\n",
    "o = np.zeros(k)\n",
    "\n",
    "# H is shifted Laplace operator with eigenvalues between -1 and 1\n",
    "H = scipy.sparse.diags([0.5*e1,o,0.5*e1], [-1,0,1])\n",
    "\n",
    "#reference solution\n",
    "yref = scipy.sparse.linalg.expm_multiply(1j*w*H,u)\n",
    "\n",
    "mv = lambda x : 1j*H.dot(x)\n",
    "mvSaIiH = lambda s,x : (np.linalg.inv(1j*H.toarray() - s*np.eye(k))).dot(x)\n",
    "\n",
    "yproductform = rexpi.evalr_product(mv, mvSaIiH, u, poles)\n",
    "print(\"evaluate y=r(A)b in product form: \\u2016y-exp(wA)b\\u2016 = %.2e\" % nrm(yref-yproductform))\n",
    "print(\"error in norm, |\\u2016y\\u2016-\\u2016b\\u2016| = %.2e\\n\"%abs(nrm(yproductform)-nrmb0))\n",
    "\n",
    "yparfrac = rexpi.evalr_partialfraction(mvSaIiH, u, aj, sj)\n",
    "print(\"evaluate y=r(A)b using partial fractions: \\u2016y-exp(wA)b\\u2016 = %.2e\" % nrm(yref-yparfrac))\n",
    "print(\"error in norm, |\\u2016y\\u2016-\\u2016b\\u2016| = %.2e\\n\"%abs(nrm(yparfrac)-nrmb0))\n",
    "\n",
    "#print(\"(error in l2 norm is bounded by scalar error since the spectrum of H is in [-1,1] and ||u||=1)\")\n",
    "#print(\"(computing r(iH)u via partial fraction is only accurate for r of small degree)\")"
   ]
  },
  {
   "cell_type": "markdown",
   "id": "6512a6d3-37f9-428e-b110-069a39648fe5",
   "metadata": {},
   "source": [
    "### compare with Pade"
   ]
  },
  {
   "cell_type": "code",
   "execution_count": 4,
   "id": "b2fcb639-3881-4622-8011-cfe9579b9302",
   "metadata": {},
   "outputs": [
    {
     "name": "stdout",
     "output_type": "stream",
     "text": [
      "r(wA)b ≈ exp(wA)b where r corresponds to the diagonal Padé approximation to exp(z) of degree n=70\n",
      "\n",
      "evaluate y=r(wA)b in product form: ‖y-exp(wA)b‖ = 2.98e-03\n",
      "error in norm, |‖y‖-‖b‖| = 1.55e-15\n",
      "\n",
      "evaluate y=r(wA)b using partial fractions: ‖y-exp(wA)b‖ = 2.33e+15\n",
      "error in norm, |‖y‖-‖b‖| = 2.33e+15\n",
      "\n"
     ]
    }
   ],
   "source": [
    "npade = 70\n",
    "print(\"r(wA)b \\u2248 exp(wA)b where r corresponds to the diagonal Pad\\u00E9 approximation to exp(z) of degree n=%d\\n\"%npade)\n",
    "rpade = rexpi.pade(npade)\n",
    "\n",
    "\n",
    "# evaluate r(iwH), argument has to be re-scaled by w\n",
    "poles2 = rpade.getpoles()\n",
    "\n",
    "mviHw = lambda x : 1j*w*H.dot(x)\n",
    "mvSaIiHw = lambda s,x : (np.linalg.inv(1j*w*H.toarray() - s*np.eye(k))).dot(x)\n",
    "\n",
    "ypadepoles = rexpi.evalr_product(mviHw, mvSaIiHw, u, poles2)\n",
    "ap0, apj, spj = rpade.getpartialfractioncoef()\n",
    "\n",
    "ypadeparfrac = rexpi.evalr_partialfraction(mvSaIiHw, u, apj, spj)\n",
    "\n",
    "print(\"evaluate y=r(wA)b in product form: \\u2016y-exp(wA)b\\u2016 = %.2e\" % nrm(yref-ypadepoles))\n",
    "print(\"error in norm, |\\u2016y\\u2016-\\u2016b\\u2016| = %.2e\\n\"%abs(nrm(ypadepoles)-nrmb0))\n",
    "print(\"evaluate y=r(wA)b using partial fractions: \\u2016y-exp(wA)b\\u2016 = %.2e\" % nrm(yref-ypadeparfrac))\n",
    "print(\"error in norm, |\\u2016y\\u2016-\\u2016b\\u2016| = %.2e\\n\"%abs(nrm(ypadeparfrac)-nrmb0))"
   ]
  },
  {
   "cell_type": "markdown",
   "id": "90c24053-a506-4e3e-a098-6e861bbd308b",
   "metadata": {},
   "source": [
    "### compare with polynomial Chebyshev approximation"
   ]
  },
  {
   "cell_type": "code",
   "execution_count": 5,
   "id": "44d0f771-8b61-4d5f-9b06-af333a60fddc",
   "metadata": {},
   "outputs": [
    {
     "name": "stdout",
     "output_type": "stream",
     "text": [
      "p(A)b ≈ exp(wA)b where p corresponds to the polynomial Chebyshev approximation of degree n=130\n",
      "\n",
      "error: ‖p(A)b-exp(iwA)b‖ = 1.97e-08\n",
      "error in norm, |‖p(A)b‖-‖b‖| = 6.71e-09\n",
      "\n"
     ]
    }
   ],
   "source": [
    "ncheb = 130\n",
    "print(\"p(A)b \\u2248 exp(wA)b where p corresponds to the polynomial Chebyshev approximation of degree n=%d\\n\"%ncheb)\n",
    "\n",
    "# evaluate Chebyshev approximation using Clenshaw Algorithm\n",
    "\n",
    "# evaluate with mv using Clenshaw Algorithm\n",
    "mvH = lambda x : H.dot(x)\n",
    "ypcheb = rexpi.chebyshev(mvH,w,u,ncheb)\n",
    "\n",
    "print(\"error: \\u2016p(A)b-exp(iwA)b\\u2016 = %.2e\" % nrm(yref-ypcheb))\n",
    "print(\"error in norm, |\\u2016p(A)b\\u2016-\\u2016b\\u2016| = %.2e\\n\"%abs(nrm(ypcheb)-nrmb0))"
   ]
  },
  {
   "cell_type": "markdown",
   "id": "83a023cf-a8c2-4f49-99e4-5290f6abfc50",
   "metadata": {},
   "source": [
    "### compare with rational interpolation at Chebyshev nodes"
   ]
  },
  {
   "cell_type": "code",
   "execution_count": 6,
   "id": "29340359-7557-49e9-9535-c8b8c51625c2",
   "metadata": {},
   "outputs": [
    {
     "name": "stdout",
     "output_type": "stream",
     "text": [
      "r(A)b ≈ exp(wA)b where r corresponds to the (n,n)-rational interpolant at 2n+1 Chebyshev nodes for degree n=48\n",
      "\n",
      "evaluate y=r(A)b in product form: ‖y-exp(iwA)b‖ = 5.31e-09\n",
      "error in norm, |‖y‖-‖b‖| = 1.10e-14\n",
      "\n",
      "evaluate y=r(A)b using partial fractions: ‖y-exp(iwA)b‖ = 6.82e-08\n",
      "error in norm, |‖y‖-‖b‖| = 3.60e-08\n",
      "\n"
     ]
    }
   ],
   "source": [
    "nrc = 48\n",
    "print(\"r(A)b \\u2248 exp(wA)b where r corresponds to the (n,n)-rational interpolant at 2n+1 Chebyshev nodes for degree n=%d\\n\"%nrc)\n",
    "r2 = rexpi.riCheb(w, nrc)\n",
    "a02, aj2, sj2 = r2.getpartialfractioncoef(sym=True)\n",
    "poles2 = sj2\n",
    "yprod2 = rexpi.evalr_product(mv, mvSaIiH, u, poles2)\n",
    "print(\"evaluate y=r(A)b in product form: \\u2016y-exp(iwA)b\\u2016 = %.2e\" % nrm(yref-yprod2))\n",
    "print(\"error in norm, |\\u2016y\\u2016-\\u2016b\\u2016| = %.2e\\n\"%abs(nrm(yprod2)-nrmb0))\n",
    "\n",
    "ypfe2 = rexpi.evalr_partialfraction(mvSaIiH, u, aj2, sj2)\n",
    "print(\"evaluate y=r(A)b using partial fractions: \\u2016y-exp(iwA)b\\u2016 = %.2e\" % nrm(yref-ypfe2))\n",
    "print(\"error in norm, |\\u2016y\\u2016-\\u2016b\\u2016| = %.2e\\n\"%abs(nrm(ypfe2)-nrmb0))"
   ]
  },
  {
   "cell_type": "markdown",
   "id": "23fd488e-b263-44ba-b106-a9bb0678f4e5",
   "metadata": {},
   "source": [
    "## use unitary best approximant with Lapack tridiagonal solver\n",
    "consider a large dimensinal for the matrix A and evaluate r(A)b using a tridiagonal solver"
   ]
  },
  {
   "cell_type": "code",
   "execution_count": 7,
   "id": "611d7e85-d104-4aab-a733-4d597565ce72",
   "metadata": {},
   "outputs": [
    {
     "name": "stdout",
     "output_type": "stream",
     "text": [
      "r(A)b ≈ exp(wA)b where r corresponds to the unitary best approximant of degree n=40\n",
      "\n",
      "use brib for n=40, tol=1e-06, and w=101.765352\n",
      "random starting vector b with ‖b‖=1, dimension k=30000\n",
      "\n",
      "time to compute reference solution 0.546550 seconds\n"
     ]
    }
   ],
   "source": [
    "# with direct solver, small dimension\n",
    "nrm = lambda x : np.linalg.norm(x)\n",
    "print(\"r(A)b \\u2248 exp(wA)b where r corresponds to the unitary best approximant of degree n=%d\\n\"%n)\n",
    "print(\"use brib for n=%d, tol=%g, and w=%f\"%(n,tol,w))\n",
    "# define diagonal matrix with spectrum between -1 and 1\n",
    "k=30000\n",
    "print(\"random starting vector b with \\u2016b\\u2016=1, dimension k=%d\\n\" %k)\n",
    "u = np.random.rand(k)\n",
    "u = u/nrm(u)\n",
    "\n",
    "e1 = np.ones(k-1,dtype=np.cdouble)\n",
    "e = np.ones(k,dtype=np.cdouble)\n",
    "o = np.zeros(k,dtype=np.cdouble)\n",
    "\n",
    "# H is shifted Laplace operator with eigenvalues between -1 and 1\n",
    "H = scipy.sparse.diags([0.5*e1,o,0.5*e1], [-1,0,1])\n",
    "\n",
    "t1=time.time()\n",
    "yref = scipy.sparse.linalg.expm_multiply(1j*w*H,u)\n",
    "dt=time.time()-t1\n",
    "print(\"time to compute reference solution %f seconds\"%dt)"
   ]
  },
  {
   "cell_type": "code",
   "execution_count": 8,
   "id": "512a8c37-4ce1-4cdb-ae7c-2d0ad44ab6dd",
   "metadata": {},
   "outputs": [
    {
     "name": "stdout",
     "output_type": "stream",
     "text": [
      "untiary best approximation with accuracy max|r(ix)-epx(iwx)| = 9.83e-07\n",
      "\n",
      "time to evaluate approximation in product form 0.088788 seconds\n",
      "evaluate y=r(A)b in product form: ‖y-exp(wA)b‖ = 9.18e-07\n",
      "error in norm, |‖y‖-‖b‖| = 4.44e-16\n",
      "\n",
      "time to evaluate approximation in partial fraction form 0.053865 seconds\n",
      "evaluate y=r(A)b using partial fractions: ‖y-exp(wA)b‖ = 9.18e-07\n",
      "error in norm, |‖y‖-‖b‖| = 1.45e-11\n",
      "\n",
      "difference for product vs partial fraction: ‖r_prod(A)b-r_PFE(A)b‖ = 3.23e-11\n"
     ]
    }
   ],
   "source": [
    "print(\"untiary best approximation with accuracy max|r(ix)-epx(iwx)| = %.2e\\n\"%info['err'])\n",
    "\n",
    "# define sparse solver\n",
    "mv = lambda x : 1j*H.dot(x)\n",
    "\n",
    "# deep copies\n",
    "dl2 = 1j*0.5*e1\n",
    "dd2 = 1j*o\n",
    "du2 = 1j*0.5*e1\n",
    "def mvsHzgtsv(pole,b):\n",
    "    [_, _, _, x, info]=scipy.linalg.lapack.zgtsv(dl2, dd2 - pole*e, du2, b)\n",
    "    return x\n",
    "\n",
    "# evaluate r(A)b in product form\n",
    "t1=time.time()\n",
    "ypoles = rexpi.evalr_product(mv, mvsHzgtsv, u, poles)\n",
    "dt=time.time()-t1\n",
    "print(\"time to evaluate approximation in product form %f seconds\"%dt)\n",
    "print(\"evaluate y=r(A)b in product form: \\u2016y-exp(wA)b\\u2016 = %.2e\" % nrm(yref-ypoles))\n",
    "print(\"error in norm, |\\u2016y\\u2016-\\u2016b\\u2016| = %.2e\\n\"%abs(nrm(ypoles)-nrmb0))\n",
    "\n",
    "\n",
    "# evaluate r(A)b using partial fractions\n",
    "t1=time.time()\n",
    "yparfrac = rexpi.evalr_partialfraction(mvsHzgtsv, u, aj, sj)\n",
    "dt=time.time()-t1\n",
    "print(\"time to evaluate approximation in partial fraction form %f seconds\"%dt)\n",
    "#print(\"max |aj| = %.2e, min Re(sj) = %.2e\" % (max(np.abs(aj)),min(sj.real)))\n",
    "print(\"evaluate y=r(A)b using partial fractions: \\u2016y-exp(wA)b\\u2016 = %.2e\" % nrm(yref-yparfrac))\n",
    "print(\"error in norm, |\\u2016y\\u2016-\\u2016b\\u2016| = %.2e\\n\"%abs(nrm(yparfrac)-nrmb0))\n",
    "\n",
    "\n",
    "print(\"difference for product vs partial fraction: \\u2016r_prod(A)b-r_PFE(A)b\\u2016 = %.2e\" % nrm(ypoles-yparfrac))"
   ]
  },
  {
   "cell_type": "markdown",
   "id": "f45df465-5deb-4f04-bee4-dc82ae3c7202",
   "metadata": {},
   "source": [
    "## Error in inner product\n",
    "Unitarity implies that the unitary best approximation conserves the inner product between two vectors within time propagation"
   ]
  },
  {
   "cell_type": "code",
   "execution_count": 9,
   "id": "9a270303-db30-4201-81e0-e23245175bfa",
   "metadata": {},
   "outputs": [
    {
     "name": "stdout",
     "output_type": "stream",
     "text": [
      "untiary best approximation with accuracy max|r(ix)-epx(iwx)| = 9.83e-07\n",
      "using product form |❬r(A)x,r(A)y❭ - ❬x,y❭| = 2.8609792490763985e-16\n",
      "using partial fractions |❬r(A)x,r(A)y❭ - ❬x,y❭| = 2.8878978388162612e-11\n"
     ]
    }
   ],
   "source": [
    "print(\"untiary best approximation with accuracy max|r(ix)-epx(iwx)| = %.2e\"%info['err'])\n",
    "\n",
    "# construct two vectors\n",
    "u1 = np.random.rand(k)+1j*np.random.rand(k)\n",
    "u1 = u1/nrm(u1)\n",
    "u2 = np.random.rand(k)+1j*np.random.rand(k)\n",
    "u2 = u2/nrm(u2)\n",
    "\n",
    "# inner product at initial time\n",
    "ip0 = inr(u1,u2)\n",
    "\n",
    "# time propagation (using product form) and inner product\n",
    "y1 = rexpi.evalr_product(mv, mvsHzgtsv, u1, poles)\n",
    "y2 = rexpi.evalr_product(mv, mvsHzgtsv, u2, poles)\n",
    "ip1 = inr(y1,y2)\n",
    "print(\"using product form |\\u276Cr(A)x,r(A)y\\u276D - \\u276Cx,y\\u276D| = %s\"% abs(ip0-ip1))\n",
    "\n",
    "# time propagation (using partial fractions) and inner product\n",
    "ypfe1 = rexpi.evalr_partialfraction(mvsHzgtsv, u1, aj, sj)\n",
    "ypfe2 = rexpi.evalr_partialfraction(mvsHzgtsv, u2, aj, sj)\n",
    "ippfe1 = inr(ypfe1,ypfe2)\n",
    "\n",
    "print(\"using partial fractions |\\u276Cr(A)x,r(A)y\\u276D - \\u276Cx,y\\u276D| = %s\"% abs(ip0-ippfe1))"
   ]
  },
  {
   "cell_type": "markdown",
   "id": "8163a668-ae99-4818-897e-3680fa62041c",
   "metadata": {},
   "source": [
    "# Shifting the matrix spectrum\n",
    "\n",
    "Approximate exp(tA)b assuming that an interval which contains the eigenvalues of A is known a priori\n",
    "\n",
    "In case this interval is not $[-1,1]$ and $t=1$, then applying the unitary best approximant requires shifting and scaling the matrix to a symmetric problem first etc..\n",
    "\n",
    "We choose the degree $n$ of the used approximant based on error estimates of the unitary best approximant and a given error tolerance."
   ]
  },
  {
   "cell_type": "code",
   "execution_count": 139,
   "id": "bbef6952-af72-43af-9b2b-2237df5f3121",
   "metadata": {},
   "outputs": [
    {
     "name": "stdout",
     "output_type": "stream",
     "text": [
      "r(A)b ≈ exp(wA)b where r corresponds to the unitary best approximant of degree n=48\n",
      "\n",
      "random starting vector b with ‖b‖=1, dimension k=30000\n",
      "\n",
      "assume that eigenvalues of A are located in the interval [-3,1]\n",
      "\n",
      "we proceed to approximate exp(tA)b for t=62\n"
     ]
    }
   ],
   "source": [
    "# with direct solver, small dimension\n",
    "nrm = lambda x : np.linalg.norm(x)\n",
    "print(\"r(A)b \\u2248 exp(wA)b where r corresponds to the unitary best approximant of degree n=%d\\n\"%n)\n",
    "# define diagonal matrix with spectrum between -1 and 1\n",
    "k=30000\n",
    "print(\"random starting vector b with \\u2016b\\u2016=1, dimension k=%d\\n\" %k)\n",
    "u = np.random.rand(k)\n",
    "u = u/nrm(u)\n",
    "\n",
    "e1 = np.ones(k-1,dtype=np.cdouble)\n",
    "e = np.ones(k,dtype=np.cdouble)\n",
    "o = np.zeros(k,dtype=np.cdouble)\n",
    "\n",
    "# define a scaled and shifted 1d laplace discretization\n",
    "hdiag = -1*e\n",
    "hsd = e1\n",
    "H = scipy.sparse.diags([hsd,hdiag,hsd], [-1,0,1])\n",
    "\n",
    "# for small dimension check eigenvalues\n",
    "# lams = scipy.linalg.eigvals(H.todense())\n",
    "# print(min(lams), max(lams))\n",
    "\n",
    "# the matrix H has eigenvalues in the interval [-3,1], define the boundaries of this interval here\n",
    "l1 = -3\n",
    "l2 = 1\n",
    "print(\"assume that eigenvalues of A are located in the interval [%s,%s]\\n\"%(l1,l2))\n",
    "\n",
    "# let t denote a given time-step\n",
    "t = 62\n",
    "\n",
    "# compute reference solution\n",
    "yref = scipy.sparse.linalg.expm_multiply(1j*t*H,u)\n",
    "\n",
    "print(\"we proceed to approximate exp(tA)b for t=%s\"%t)"
   ]
  },
  {
   "cell_type": "code",
   "execution_count": 142,
   "id": "9dcf9d60-cc36-4ba3-bd95-770a845df5d1",
   "metadata": {},
   "outputs": [
    {
     "name": "stdout",
     "output_type": "stream",
     "text": [
      "this problem requires a uniform approximation on [-w,w] for w=124.000000\n",
      "\n",
      "aim to obtain a uniform error of tol=1.00e-06\n",
      "\n",
      "rexpi error estimate suggests using degree n=48\n",
      "\n",
      "... compute unitary best approximant\n",
      "used 10 iterations, error = 2.55e-07, deviation = 3.06e-04\n",
      "\n",
      "... compute coefficients for product and partial fraction form\n"
     ]
    }
   ],
   "source": [
    "# choose parameters for shift and unitary best approximation\n",
    "w = t*(l2-l1)/2\n",
    "print(\"this problem requires a uniform approximation on [-w,w] for w=%f\\n\"%w)\n",
    "\n",
    "tol = 1e-6\n",
    "print(\"aim to obtain a uniform error of tol=%.2e\\n\"%(tol))\n",
    "\n",
    "n = rexpi.nest(w,tol)\n",
    "print(\"rexpi error estimate suggests using degree n=%d\\n\"%(n))\n",
    "\n",
    "print(\"... compute unitary best approximant\")\n",
    "r, info = rexpi.brib(w = w, n = n, tolequi = tolequi, info=1)\n",
    "print(\"used %d iterations, error = %.2e, deviation = %.2e\\n\"%(info['iterations'],info['err'],info['dev']))\n",
    "\n",
    "print(\"... compute coefficients for product and partial fraction form\")\n",
    "a0, aj, sj = r.getpartialfractioncoef(sym=True)\n",
    "poles = sj"
   ]
  },
  {
   "cell_type": "code",
   "execution_count": 143,
   "id": "b28605cf-67fd-482e-9d62-c944aeb9c824",
   "metadata": {},
   "outputs": [
    {
     "name": "stdout",
     "output_type": "stream",
     "text": [
      "evaluate y=r(tA)b, ‖y-exp(tA)b‖ = 2.39e-07\n"
     ]
    }
   ],
   "source": [
    "# define sparse solver and matrix-vector product for shifted matrix\n",
    "# B = t*(A - i*gamma*I)/w\n",
    "# relevant part of the spectrum of tA is shifted to [-w,w]\n",
    "# evaluate r(itB/w) approx exp(itB)\n",
    "\n",
    "gamma = (l1+l2)/2\n",
    "mv = lambda x : 1j*t*(H.dot(x)-gamma*x)/w\n",
    "\n",
    "# deep copies\n",
    "dl2 = 1j*t*hsd/w\n",
    "dd2 = 1j*t*(hdiag-gamma*e)/w\n",
    "du2 = 1j*t*hsd/w\n",
    "def mvsHzgtsv(pole,b):\n",
    "    [_, _, _, x, info]=scipy.linalg.lapack.zgtsv(dl2, dd2 - pole*e, du2, b)\n",
    "    return x\n",
    "\n",
    "# evaluate r(A)b in product form\n",
    "ypoles = rexpi.evalr_product(mv, mvsHzgtsv, u, poles)\n",
    "y1 = np.exp(1j*t*gamma)*ypoles\n",
    "print(\"evaluate y=r(tA)b, \\u2016y-exp(tA)b\\u2016 = %.2e\" % nrm(yref-y1))\n"
   ]
  },
  {
   "cell_type": "code",
   "execution_count": null,
   "id": "f4b18385-5ec3-424c-9f9e-7f2bc2ce31b0",
   "metadata": {},
   "outputs": [],
   "source": []
  },
  {
   "cell_type": "code",
   "execution_count": null,
   "id": "1b335272-6737-4fde-babb-ae0678c65c37",
   "metadata": {},
   "outputs": [],
   "source": []
  }
 ],
 "metadata": {
  "kernelspec": {
   "display_name": "Python 3 (ipykernel)",
   "language": "python",
   "name": "python3"
  },
  "language_info": {
   "codemirror_mode": {
    "name": "ipython",
    "version": 3
   },
   "file_extension": ".py",
   "mimetype": "text/x-python",
   "name": "python",
   "nbconvert_exporter": "python",
   "pygments_lexer": "ipython3",
   "version": "3.9.13"
  }
 },
 "nbformat": 4,
 "nbformat_minor": 5
}
