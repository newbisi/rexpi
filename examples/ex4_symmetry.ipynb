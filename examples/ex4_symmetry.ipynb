{
 "cells": [
  {
   "cell_type": "code",
   "execution_count": 1,
   "id": "biological-alexandria",
   "metadata": {},
   "outputs": [],
   "source": [
    "import numpy as np\n",
    "import matplotlib.pyplot as plt\n",
    "import rexpi"
   ]
  },
  {
   "cell_type": "markdown",
   "id": "dec24922-9537-4590-9ed3-b1bbb9c2c037",
   "metadata": {},
   "source": [
    "# Test symmetry, sym=True to preserve symmetry of coefficients and poles in computer arithmetic"
   ]
  },
  {
   "cell_type": "markdown",
   "id": "06805d95-579d-4e85-a9cd-66156e4540cf",
   "metadata": {},
   "source": [
    "## first with sym = False, only unitarity is preserved"
   ]
  },
  {
   "cell_type": "code",
   "execution_count": 2,
   "id": "754fe821-b1e8-4c5b-8179-017dabb2b96b",
   "metadata": {},
   "outputs": [
    {
     "name": "stdout",
     "output_type": "stream",
     "text": [
      "for n=13 and tol=1e-08, our error estimate suggests w=19.583137\n",
      "run brib algorithm .. used 91 iterations, rel. deviation = 9.51e-04\n",
      "approximation error = 9.42277495e-09\n",
      "error on symmetry property of weights without using symmetric interpolation\n",
      "beta = -beta.conj()\n",
      "[ 0.0686587 -0.1913199j   0.08082759+0.46778283j -0.53950318-0.17103189j\n",
      "  0.22082284-0.55090113j  0.58571963+0.11721192j  0.08362599+0.58864614j\n",
      " -0.50092385+0.31548379j -0.50092385-0.31548379j  0.08362599-0.58864614j\n",
      "  0.58571963-0.11721192j  0.22082284+0.55090113j -0.53950318+0.17103189j\n",
      "  0.08082759-0.46778283j  0.0686587 +0.1913199j ]\n",
      "or beta = beta.conj()\n",
      "[-1.26305494e-11+3.51954577e-11j -1.37743705e-11-7.97180100e-11j\n",
      "  7.80283060e-11+2.47363241e-11j -2.50829219e-11+6.25759999e-11j\n",
      " -4.74855710e-11-9.50263479e-12j -4.05444428e-12-2.85393931e-11j\n",
      "  8.07659495e-12-5.08670883e-12j -8.07659495e-12-5.08670883e-12j\n",
      "  4.05444428e-12-2.85393931e-11j  4.74855710e-11-9.50263479e-12j\n",
      "  2.50829219e-11+6.25759999e-11j -7.80283060e-11+2.47363241e-11j\n",
      "  1.37743705e-11-7.97180100e-11j  1.26305494e-11+3.51954577e-11j]\n",
      "error on symmetry property of poles without using unitary inteprolation and std eigenvalue problem\n",
      "[-8.28517255e-11 -8.31890112e-11 -8.46187564e-11 -9.37883105e-11\n",
      " -9.78958026e-11 -1.06648995e-10 -1.15791189e-10 -1.06648995e-10\n",
      " -9.78958026e-11 -9.37883105e-11 -8.46187564e-11 -8.31890112e-11\n",
      " -8.28517255e-11]\n"
     ]
    }
   ],
   "source": [
    "n = 13\n",
    "tol = 1e-8\n",
    "w = rexpi.buerrest_getw(n,tol)\n",
    "print(\"for n=%d and tol=%g, our error estimate suggests w=%f\"%(n,tol,w))\n",
    "rx, brnodes, allerr = rexpi.brib(w = w, n = n, npi=50,\n",
    "                                   maxiter = 700, tolequi = 1e-3, step_factor=0.02)\n",
    "errlast = allerr[-1][0]\n",
    "rdev = allerr[-1][1]\n",
    "rdev_old = allerr[-1][2]\n",
    "usediter = len(allerr)\n",
    "print(\"run brib algorithm .. used %d iterations, rel. deviation = %.2e\" %(usediter,rdev))\n",
    "print(\"approximation error = %.8e\"%(errlast))\n",
    "\n",
    "y,b = rx.coef()\n",
    "ij = np.argsort(y.imag)\n",
    "b=b[ij]\n",
    "print(\"error on symmetry property of weights without using symmetric interpolation\")\n",
    "print(\"beta = -beta.conj()\")\n",
    "print(b+b[::-1].conj())\n",
    "print(\"or beta = beta.conj()\")\n",
    "print(b-b[::-1].conj())\n",
    "\n",
    "\n",
    "print(\"error on symmetry property of poles without using unitary inteprolation and std eigenvalue problem\")\n",
    "lams = rx.getpoles()\n",
    "ijxi = np.argsort(lams.imag)\n",
    "lams=lams[ijxi]\n",
    "print((lams+lams[::-1]).imag)\n"
   ]
  },
  {
   "cell_type": "markdown",
   "id": "03c9225e-0f10-440b-9a2d-8b9c2f59598e",
   "metadata": {},
   "source": [
    "## now with sym=True, algorithm preserves unitarity and symmetry for coefficients and poles"
   ]
  },
  {
   "cell_type": "code",
   "execution_count": 3,
   "id": "fe88131b-87eb-4672-9331-b25e1935d58b",
   "metadata": {},
   "outputs": [
    {
     "name": "stdout",
     "output_type": "stream",
     "text": [
      "for n=13 and tol=1e-08, our error estimate suggests w=19.583137\n",
      "run brib algorithm .. used 91 iterations, rel. deviation = 9.51e-04\n",
      "approximation error = 9.42277705e-09\n",
      "error on symmetry property of weights using symmetric interpolation\n",
      "beta = -beta.conj()\n",
      "[ 0.09709806-0.27056719j  0.11430747+0.66154481j -0.7629727 -0.24187562j\n",
      "  0.31229065-0.77909186j  0.82833265+0.16576269j  0.11826501+0.83247136j\n",
      " -0.70841331+0.44616146j -0.70841331-0.44616146j  0.11826501-0.83247136j\n",
      "  0.82833265-0.16576269j  0.31229065+0.77909186j -0.7629727 +0.24187562j\n",
      "  0.11430747-0.66154481j  0.09709806+0.27056719j]\n",
      "or beta = beta.conj()\n",
      "[0.+0.j 0.+0.j 0.+0.j 0.+0.j 0.+0.j 0.+0.j 0.+0.j 0.+0.j 0.+0.j 0.+0.j\n",
      " 0.+0.j 0.+0.j 0.+0.j 0.+0.j]\n",
      "error on symmetry property of weights using symmetric interpolation and symmetrized eigenvalue problem\n",
      "[2.22044605e-16 4.44089210e-16 0.00000000e+00 0.00000000e+00\n",
      " 0.00000000e+00 5.55111512e-17 0.00000000e+00 5.55111512e-17\n",
      " 0.00000000e+00 0.00000000e+00 0.00000000e+00 4.44089210e-16\n",
      " 2.22044605e-16]\n"
     ]
    }
   ],
   "source": [
    "print(\"for n=%d and tol=%g, our error estimate suggests w=%f\"%(n,tol,w))\n",
    "rx, brnodes, allerr = rexpi.brib(w = w, n = n, npi=50,\n",
    "                                   maxiter = 700, tolequi = 1e-3, step_factor=0.02,syminterp=True)\n",
    "errlast = allerr[-1][0]\n",
    "rdev = allerr[-1][1]\n",
    "rdev_old = allerr[-1][2]\n",
    "usediter = len(allerr)\n",
    "print(\"run brib algorithm .. used %d iterations, rel. deviation = %.2e\" %(usediter,rdev))\n",
    "print(\"approximation error = %.8e\"%(errlast))\n",
    "\n",
    "y,b = rx.coef()\n",
    "ij = np.argsort(y.imag)\n",
    "b=b[ij]\n",
    "print(\"error on symmetry property of weights using symmetric interpolation\")\n",
    "print(\"beta = -beta.conj()\")\n",
    "print(b+b[::-1].conj())\n",
    "print(\"or beta = beta.conj()\")\n",
    "print(b-b[::-1].conj())\n",
    "\n",
    "print(\"error on symmetry property of weights using symmetric interpolation and symmetrized eigenvalue problem\")\n",
    "lams = rx.getpoles(sym=True)\n",
    "ijxi = np.argsort(lams.imag)\n",
    "lams=lams[ijxi]\n",
    "print((lams+lams[::-1]).imag)"
   ]
  },
  {
   "cell_type": "code",
   "execution_count": null,
   "id": "bc80efe2-93a5-4d33-bdae-1b9fc00fe879",
   "metadata": {},
   "outputs": [],
   "source": []
  },
  {
   "cell_type": "code",
   "execution_count": null,
   "id": "b9e3cd5b-f611-41df-988e-49bf6bf0aab4",
   "metadata": {},
   "outputs": [],
   "source": []
  },
  {
   "cell_type": "code",
   "execution_count": 4,
   "id": "f84b6694-0a42-4e36-a4f0-412ccb84c6cb",
   "metadata": {},
   "outputs": [
    {
     "name": "stdout",
     "output_type": "stream",
     "text": [
      "4.79882892750441e-08\n",
      "2.2618665531525623e-15\n"
     ]
    }
   ],
   "source": [
    "poles = rx.getpoles(sym=True)\n",
    "ntry = 1000\n",
    "zs=np.random.rand(ntry)+1j*np.random.rand(ntry)\n",
    "mviH = lambda x : zs*x\n",
    "mvSaIiH = lambda s,x : (zs-s)**(-1)*x\n",
    "u=np.ones(ntry)\n",
    "c0=(-1)**(n)\n",
    "y1 = rexpi.evalr_product(mviH, mvSaIiH, u, poles, c0)\n",
    "mviH = lambda x : np.conj(zs)*x\n",
    "mvSaIiH = lambda s,x : (np.conj(zs)-s)**(-1)*x\n",
    "y2 = rexpi.evalr_product(mviH, mvSaIiH, u, poles, c0)\n",
    "mviH = lambda x : -zs*x\n",
    "mvSaIiH = lambda s,x : (-zs-s)**(-1)*x\n",
    "y3 = rexpi.evalr_product(mviH, mvSaIiH, u, poles, c0)\n",
    "print(np.max(np.abs(y2-np.conj(y1))))\n",
    "print(np.max(np.abs(y3-1/y1)))"
   ]
  }
 ],
 "metadata": {
  "kernelspec": {
   "display_name": "Python 3 (ipykernel)",
   "language": "python",
   "name": "python3"
  },
  "language_info": {
   "codemirror_mode": {
    "name": "ipython",
    "version": 3
   },
   "file_extension": ".py",
   "mimetype": "text/x-python",
   "name": "python",
   "nbconvert_exporter": "python",
   "pygments_lexer": "ipython3",
   "version": "3.9.13"
  }
 },
 "nbformat": 4,
 "nbformat_minor": 5
}
