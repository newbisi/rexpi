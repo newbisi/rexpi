{
 "cells": [
  {
   "cell_type": "code",
   "execution_count": 1,
   "id": "biological-alexandria",
   "metadata": {},
   "outputs": [],
   "source": [
    "import numpy as np\n",
    "import matplotlib.pyplot as plt\n",
    "import rexpi\n",
    "import scipy.sparse"
   ]
  },
  {
   "cell_type": "markdown",
   "id": "a492ac89-a443-4f44-bf4a-9f965be244f7",
   "metadata": {},
   "source": [
    "# Matrix exponential, diagonal case similar to scalar setting\n",
    "\n",
    "compute $\\exp(\\mathrm{i} \\omega H )u$ for a matrix $H\\in\\mathbb{C}^{k\\times k}$ and vector $u\\in\\mathbb{C}^k$."
   ]
  },
  {
   "cell_type": "code",
   "execution_count": 2,
   "id": "9bfabf90-6107-4ef5-978a-8093983a5199",
   "metadata": {},
   "outputs": [
    {
     "name": "stdout",
     "output_type": "stream",
     "text": [
      "for n=12 and tol=1e-08, our error estimate suggests w=17.135465\n",
      "run brib algorithm .. used 89 iterations, rel. deviation = 9.61e-04\n",
      "approximation error = 9.57064023e-09\n",
      "evaluate scalar r: max|r(ix)-exp(iwx)| = 9.56e-09\n",
      "use poles: max|r(ix)-exp(iwx)| = 9.57e-09\n",
      "use partial fraction: max|r(ix)-exp(iwx)| = 5.83e-05\n",
      "(computing r(iH)u via partial fraction is only accurate for r of small degree)\n"
     ]
    }
   ],
   "source": [
    "n = 12\n",
    "tol = 1e-8\n",
    "w = rexpi.buerrest_getw(n,tol)\n",
    "print(\"for n=%d and tol=%g, our error estimate suggests w=%f\"%(n,tol,w))\n",
    "rx, brnodes, allerr = rexpi.brib(w = w, n = n, npi=50,\n",
    "                                   maxiter = 700, tolequi = 1e-3, step_factor=0.02,syminterp=True)\n",
    "errlast = allerr[-1][0]\n",
    "rdev = allerr[-1][1]\n",
    "rdev_old = allerr[-1][2]\n",
    "usediter = len(allerr)\n",
    "print(\"run brib algorithm .. used %d iterations, rel. deviation = %.2e\" %(usediter,rdev))\n",
    "print(\"approximation error = %.8e\"%(errlast))\n",
    "\n",
    "poles = rx.getpoles(sym=True)\n",
    "\n",
    "# define diagonal matrix with spectrum between -1 and 1\n",
    "k=100\n",
    "u = np.ones(k)\n",
    "# in this example the matrix H corresponds to the diagonal matrix\n",
    "eigsH = np.linspace(-1,1,k)\n",
    "H = scipy.sparse.diags([eigsH], [0])\n",
    "\n",
    "yscalar = rx(1j*eigsH)\n",
    "yref = np.exp(1j*w*eigsH)\n",
    "print(\"evaluate scalar r: max|r(ix)-exp(iwx)| = %.2e\" % np.max(np.abs(yref-yscalar)))\n",
    "\n",
    "mviH = lambda x : 1j*eigsH*x\n",
    "mvSaIiH = lambda s,x : (1j*eigsH-s)**(-1)*x\n",
    "#mvSaIiH = lambda s,x : np.linalg.solve(1j*H - s*np.eye(k),x)\n",
    "#mvSaIiH = lambda s,x : (np.linalg.inv(1j*H.toarray() - s*np.eye(k))).dot(x)\n",
    "\n",
    "c0=(-1)**(n)\n",
    "ypoles = rexpi.evalr_product(mviH, mvSaIiH, u, poles, c0)\n",
    "print(\"use poles: max|r(ix)-exp(iwx)| = %.2e\" % np.max(np.abs(yref-ypoles)))\n",
    "\n",
    "a0, aj, sj = rx.getpartialfractioncoef(sym=True)\n",
    "yparfrac = rexpi.evalr_partialfraction(mvSaIiH, u, a0, aj, sj)\n",
    "print(\"use partial fraction: max|r(ix)-exp(iwx)| = %.2e\" % np.max(np.abs(yref-yparfrac)))\n",
    "print(\"(computing r(iH)u via partial fraction is only accurate for r of small degree)\")"
   ]
  },
  {
   "cell_type": "markdown",
   "id": "6512a6d3-37f9-428e-b110-069a39648fe5",
   "metadata": {},
   "source": [
    "### compare with Pade"
   ]
  },
  {
   "cell_type": "code",
   "execution_count": 3,
   "id": "b2fcb639-3881-4622-8011-cfe9579b9302",
   "metadata": {},
   "outputs": [
    {
     "name": "stdout",
     "output_type": "stream",
     "text": [
      "approximate exponential with Pade, same problem as above\n",
      "scalar error: max|r(iwx)-exp(iwx)| = 6.87e-03\n",
      "use poles: max|r(iwx)-exp(iwx)| = 6.87e-03\n"
     ]
    }
   ],
   "source": [
    "npade = n\n",
    "rpade = rexpi.pade(npade)\n",
    "\n",
    "# test scalar approximation error of pade\n",
    "ypadescalar = rpade(1j*w*eigsH)\n",
    "\n",
    "# evaluate r(iwH), argument has to be re-scaled by w\n",
    "poles2 = rpade.getpoles()\n",
    "mviHscaled = lambda x : 1j*w*eigsH*x\n",
    "mvSaIiHscaled = lambda s,x : (1j*w*eigsH-s)**(-1)*x\n",
    "c02 = (-1)**(npade)\n",
    "ypadepoles = rexpi.evalr_product(mviHscaled, mvSaIiHscaled, u, poles2, c02)\n",
    "print(\"approximate exponential with Pade, same problem as above\")\n",
    "print(\"scalar error: max|r(iwx)-exp(iwx)| = %.2e\" % np.max(np.abs(yref-ypadescalar)))\n",
    "print(\"use poles: max|r(iwx)-exp(iwx)| = %.2e\" % np.max(np.abs(yref-ypadepoles)))"
   ]
  },
  {
   "cell_type": "markdown",
   "id": "90c24053-a506-4e3e-a098-6e861bbd308b",
   "metadata": {},
   "source": [
    "### compare with polynomial Chebyshev"
   ]
  },
  {
   "cell_type": "code",
   "execution_count": 4,
   "id": "44d0f771-8b61-4d5f-9b06-af333a60fddc",
   "metadata": {},
   "outputs": [
    {
     "name": "stdout",
     "output_type": "stream",
     "text": [
      "approximate exponential with Pade, same problem as above\n",
      "scalar error: max|r(iwx)-exp(iwx)| = 2.03e-06\n",
      "by mv: max|r(iwx)-exp(iwx)| = 2.03e-06\n"
     ]
    }
   ],
   "source": [
    "ncheb = 30\n",
    "# evaluate Chebyshev approximation using Clenshaw Algorithm\n",
    "ypcheb = rexpi.eval_polynomial_chebyshev(eigsH, w, ncheb)\n",
    "# evaluate with mv using Clenshaw Algorithm\n",
    "mvH = lambda x : eigsH*x\n",
    "ypcheb2 = rexpi.chebyshev(mvH,w,u,ncheb)\n",
    "\n",
    "print(\"approximate exponential with Pade, same problem as above\")\n",
    "print(\"scalar error: max|r(iwx)-exp(iwx)| = %.2e\" % np.max(np.abs(yref-ypcheb)))\n",
    "print(\"by mv: max|r(iwx)-exp(iwx)| = %.2e\" % np.max(np.abs(yref-ypcheb2)))"
   ]
  },
  {
   "cell_type": "markdown",
   "id": "ddb60df0-0316-4b4e-aafa-dcc7ab41781e",
   "metadata": {},
   "source": [
    "## Tridiagonal matrix, errors in norm"
   ]
  },
  {
   "cell_type": "code",
   "execution_count": 5,
   "id": "bf8d0002-221c-4d66-b8ca-6b678aa3896b",
   "metadata": {},
   "outputs": [
    {
     "name": "stdout",
     "output_type": "stream",
     "text": [
      "use brib for n=12, tol=1e-08, and w=17.135465\n",
      "random starting vector u with ||u||=1, dimension k=50\n",
      "use poles: ||r(ix)-exp(iwx)|| = 4.32e-09\n",
      "use partial fraction: ||r(ix)-exp(iwx)|| = 2.19e-05\n",
      "(error in l2 norm is bounded by scalar error since the spectrum of H is in [-1,1] and ||u||=1)\n",
      "(computing r(iH)u via partial fraction is only accurate for r of small degree)\n"
     ]
    }
   ],
   "source": [
    "# with direct solver, small dimension\n",
    "nrm = lambda x : np.linalg.norm(x)\n",
    "\n",
    "print(\"use brib for n=%d, tol=%g, and w=%f\"%(n,tol,w))\n",
    "\n",
    "# define diagonal matrix with spectrum between -1 and 1\n",
    "k=50\n",
    "print(\"random starting vector u with ||u||=1, dimension k=%d\" %k)\n",
    "u = np.random.rand(k)\n",
    "u = u/nrm(u)\n",
    "\n",
    "e1 = np.ones(k-1)\n",
    "e = np.ones(k)\n",
    "o = np.zeros(k)\n",
    "\n",
    "# H is shifted Laplace operator with eigenvalues between -1 and 1\n",
    "H = scipy.sparse.diags([0.5*e1,o,0.5*e1], [-1,0,1])\n",
    "yref = scipy.sparse.linalg.expm_multiply(1j*w*H,u)\n",
    "\n",
    "mviH = lambda x : 1j*H.dot(x)\n",
    "# apply numpy solve to apply x -> (H-s*I)**-1\n",
    "#mvSaIiH = lambda s,x : np.linalg.solve(1j*H - s*np.eye(k),x)\n",
    "# apply the matrix inverse of H-s*I\n",
    "mvSaIiH = lambda s,x : (np.linalg.inv(1j*H.toarray() - s*np.eye(k))).dot(x)\n",
    "\n",
    "poles = rx.getpoles(sym=True)\n",
    "c0=(-1)**(n)\n",
    "ypoles = rexpi.evalr_product(mviH, mvSaIiH, u, poles, c0)\n",
    "print(\"use poles: ||r(ix)-exp(iwx)|| = %.2e\" % nrm(yref-ypoles))\n",
    "\n",
    "a0, aj, sj = rx.getpartialfractioncoef(sym=True)\n",
    "yparfrac = rexpi.evalr_partialfraction(mvSaIiH, u, a0, aj, sj)\n",
    "print(\"use partial fraction: ||r(ix)-exp(iwx)|| = %.2e\" % nrm(yref-yparfrac))\n",
    "print(\"(error in l2 norm is bounded by scalar error since the spectrum of H is in [-1,1] and ||u||=1)\")\n",
    "print(\"(computing r(iH)u via partial fraction is only accurate for r of small degree)\")"
   ]
  },
  {
   "cell_type": "markdown",
   "id": "4bb86a52-33ce-4e77-a9db-5a96ea0f4519",
   "metadata": {},
   "source": [
    "### use sparse solver"
   ]
  },
  {
   "cell_type": "code",
   "execution_count": 7,
   "id": "83fc8dd2-5ffe-43f7-8451-0b738ebe91ae",
   "metadata": {},
   "outputs": [
    {
     "name": "stdout",
     "output_type": "stream",
     "text": [
      "use brib for n=12, tol=1e-08, and w=17.135465\n",
      "random starting vector u with ||u||=1, dimension k=10000\n",
      "use poles: max|r(ix)-exp(iwx)| = 8.92e-09\n",
      "use partial fraction: ||r(ix)-exp(iwx)|| = 2.20e-05\n",
      "(error in l2 norm is bounded by scalar error since the spectrum of H is in [-1,1] and ||u||=1)\n",
      "(computing r(iH)u via partial fraction is only accurate for r of small degree)\n"
     ]
    }
   ],
   "source": [
    "# sparse solver, large dimension\n",
    "nrm = lambda x : np.linalg.norm(x)\n",
    "\n",
    "print(\"use brib for n=%d, tol=%g, and w=%f\"%(n,tol,w))\n",
    "\n",
    "# define diagonal matrix with spectrum between -1 and 1\n",
    "k=10000\n",
    "print(\"random starting vector u with ||u||=1, dimension k=%d\"%k)\n",
    "u = np.random.rand(k)\n",
    "u = u/nrm(u)\n",
    "\n",
    "e1 = np.ones(k-1)\n",
    "e = np.ones(k)\n",
    "o = np.zeros(k)\n",
    "\n",
    "# H is shifted Laplace operator with eigenvalues between -1 and 1\n",
    "H = scipy.sparse.diags([0.5*e1,o,0.5*e1], [-1,0,1])\n",
    "yref = scipy.sparse.linalg.expm_multiply(1j*w*H,u)\n",
    "\n",
    "mviH = lambda x : 1j*H.dot(x)\n",
    "# use a banded sparse solver to compute the inverse of H-s*I\n",
    "mvSaIiH =lambda s,x : scipy.sparse.linalg.spsolve(scipy.sparse.diags([0.5j*e1,-s*e,0.5j*e1], [-1,0,1]).tocsc(), x)\n",
    "\n",
    "poles = rx.getpoles(sym=True)\n",
    "c0=(-1)**(n)\n",
    "ypoles = rexpi.evalr_product(mviH, mvSaIiH, u, poles, c0)\n",
    "print(\"use poles: max|r(ix)-exp(iwx)| = %.2e\" % nrm(yref-ypoles))\n",
    "\n",
    "a0, aj, sj = rx.getpartialfractioncoef(sym=True)\n",
    "yparfrac = rexpi.evalr_partialfraction(mvSaIiH, u, a0, aj, sj)\n",
    "print(\"use partial fraction: ||r(ix)-exp(iwx)|| = %.2e\" % nrm(yref-yparfrac))\n",
    "print(\"(error in l2 norm is bounded by scalar error since the spectrum of H is in [-1,1] and ||u||=1)\")\n",
    "print(\"(computing r(iH)u via partial fraction is only accurate for r of small degree)\")"
   ]
  },
  {
   "cell_type": "code",
   "execution_count": null,
   "id": "3435d9f4-1923-4491-91ac-adfd8b9eac26",
   "metadata": {},
   "outputs": [],
   "source": []
  }
 ],
 "metadata": {
  "kernelspec": {
   "display_name": "Python 3 (ipykernel)",
   "language": "python",
   "name": "python3"
  },
  "language_info": {
   "codemirror_mode": {
    "name": "ipython",
    "version": 3
   },
   "file_extension": ".py",
   "mimetype": "text/x-python",
   "name": "python",
   "nbconvert_exporter": "python",
   "pygments_lexer": "ipython3",
   "version": "3.9.13"
  }
 },
 "nbformat": 4,
 "nbformat_minor": 5
}
