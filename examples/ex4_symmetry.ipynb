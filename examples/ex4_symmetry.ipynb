{
 "cells": [
  {
   "cell_type": "code",
   "execution_count": 1,
   "id": "biological-alexandria",
   "metadata": {},
   "outputs": [],
   "source": [
    "import numpy as np\n",
    "import matplotlib.pyplot as plt\n",
    "import rexpi"
   ]
  },
  {
   "cell_type": "markdown",
   "id": "dec24922-9537-4590-9ed3-b1bbb9c2c037",
   "metadata": {},
   "source": [
    "# Test symmetry, sym=True to preserve symmetry of coefficients and poles in computer arithmetic"
   ]
  },
  {
   "cell_type": "markdown",
   "id": "06805d95-579d-4e85-a9cd-66156e4540cf",
   "metadata": {},
   "source": [
    "## first with sym = False, only unitarity is preserved"
   ]
  },
  {
   "cell_type": "code",
   "execution_count": 2,
   "id": "754fe821-b1e8-4c5b-8179-017dabb2b96b",
   "metadata": {},
   "outputs": [
    {
     "name": "stdout",
     "output_type": "stream",
     "text": [
      "for n=13 and tol=1e-08, our error estimate suggests w=19.583137\n",
      "run brib algorithm .. used 91 iterations, rel. deviation = 9.50e-04\n",
      "approximation error = 9.42277442e-09\n",
      "error on symmetry property of weights without using symmetric interpolation\n",
      "beta = -beta.conj()\n",
      "[-0.0686587 +0.1913199j  -0.08082759-0.46778282j  0.53950317+0.17103188j\n",
      " -0.22082284+0.55090113j -0.58571963-0.11721192j -0.08362599-0.58864614j\n",
      "  0.50092386-0.3154838j   0.50092386+0.3154838j  -0.08362599+0.58864614j\n",
      " -0.58571963+0.11721192j -0.22082284-0.55090113j  0.53950317-0.17103188j\n",
      " -0.08082759+0.46778282j -0.0686587 -0.1913199j ]\n",
      "or beta = beta.conj()\n",
      "[-7.57266472e-11+2.11014983e-10j -8.26579152e-11-4.78375700e-10j\n",
      "  4.68896588e-10+1.48648358e-10j -1.50928853e-10+3.76532028e-10j\n",
      " -2.86013102e-10-5.72358202e-11j -2.44362933e-11-1.72007852e-10j\n",
      "  4.86941043e-11-3.06677184e-11j -4.86941043e-11-3.06677184e-11j\n",
      "  2.44362933e-11-1.72007852e-10j  2.86013102e-10-5.72358202e-11j\n",
      "  1.50928853e-10+3.76532028e-10j -4.68896588e-10+1.48648358e-10j\n",
      "  8.26579152e-11-4.78375700e-10j  7.57266472e-11+2.11014983e-10j]\n",
      "error on symmetry property of poles without using unitary inteprolation and std eigenvalue problem\n",
      "[4.61296334e-10 4.85920637e-10 5.40704814e-10 6.04295836e-10\n",
      " 6.72723655e-10 7.45127043e-10 7.82265280e-10 7.45127043e-10\n",
      " 6.72723655e-10 6.04295836e-10 5.40704814e-10 4.85920637e-10\n",
      " 4.61296334e-10]\n"
     ]
    }
   ],
   "source": [
    "n = 13\n",
    "tol = 1e-8\n",
    "w = rexpi.buerrest_getw(n,tol)\n",
    "print(\"for n=%d and tol=%g, our error estimate suggests w=%f\"%(n,tol,w))\n",
    "rx, brnodes, allerr = rexpi.brib(w = w, n = n, npi=50,\n",
    "                                   maxiter = 700, tolequi = 1e-3, step_factor=0.02)\n",
    "errlast = allerr[-1][0]\n",
    "rdev = allerr[-1][1]\n",
    "rdev_old = allerr[-1][2]\n",
    "usediter = len(allerr)\n",
    "print(\"run brib algorithm .. used %d iterations, rel. deviation = %.2e\" %(usediter,rdev))\n",
    "print(\"approximation error = %.8e\"%(errlast))\n",
    "\n",
    "y,b = rx.coef()\n",
    "ij = np.argsort(y.imag)\n",
    "b=b[ij]\n",
    "print(\"error on symmetry property of weights without using symmetric interpolation\")\n",
    "print(\"beta = -beta.conj()\")\n",
    "print(b+b[::-1].conj())\n",
    "print(\"or beta = beta.conj()\")\n",
    "print(b-b[::-1].conj())\n",
    "\n",
    "\n",
    "print(\"error on symmetry property of poles without using unitary inteprolation and std eigenvalue problem\")\n",
    "lams = rx.getpoles()\n",
    "ijxi = np.argsort(lams.imag)\n",
    "lams=lams[ijxi]\n",
    "print((lams+lams[::-1]).imag)\n"
   ]
  },
  {
   "cell_type": "markdown",
   "id": "03c9225e-0f10-440b-9a2d-8b9c2f59598e",
   "metadata": {},
   "source": [
    "## now with sym=True, algorithm preserves unitarity and symmetry for coefficients and poles"
   ]
  },
  {
   "cell_type": "code",
   "execution_count": 3,
   "id": "fe88131b-87eb-4672-9331-b25e1935d58b",
   "metadata": {},
   "outputs": [
    {
     "name": "stdout",
     "output_type": "stream",
     "text": [
      "for n=13 and tol=1e-08, our error estimate suggests w=19.583137\n",
      "run brib algorithm .. used 91 iterations, rel. deviation = 9.51e-04\n",
      "approximation error = 9.42277547e-09\n",
      "error on symmetry property of weights using symmetric interpolation\n",
      "beta = -beta.conj()\n",
      "[ 0.09709806-0.2705672j   0.11430746+0.66154482j -0.7629727 -0.24187561j\n",
      "  0.31229065-0.77909186j  0.82833265+0.16576269j  0.11826501+0.83247136j\n",
      " -0.70841331+0.44616146j -0.70841331-0.44616146j  0.11826501-0.83247136j\n",
      "  0.82833265-0.16576269j  0.31229065+0.77909186j -0.7629727 +0.24187561j\n",
      "  0.11430746-0.66154482j  0.09709806+0.2705672j ]\n",
      "or beta = beta.conj()\n",
      "[0.+0.j 0.+0.j 0.+0.j 0.+0.j 0.+0.j 0.+0.j 0.+0.j 0.+0.j 0.+0.j 0.+0.j\n",
      " 0.+0.j 0.+0.j 0.+0.j 0.+0.j]\n",
      "error on symmetry property of weights using symmetric interpolation and symmetrized eigenvalue problem\n",
      "[0. 0. 0. 0. 0. 0. 0. 0. 0. 0. 0. 0. 0.]\n"
     ]
    }
   ],
   "source": [
    "print(\"for n=%d and tol=%g, our error estimate suggests w=%f\"%(n,tol,w))\n",
    "rx, brnodes, allerr = rexpi.brib(w = w, n = n, npi=50,\n",
    "                                   maxiter = 700, tolequi = 1e-3, step_factor=0.02,syminterp=True)\n",
    "errlast = allerr[-1][0]\n",
    "rdev = allerr[-1][1]\n",
    "rdev_old = allerr[-1][2]\n",
    "usediter = len(allerr)\n",
    "print(\"run brib algorithm .. used %d iterations, rel. deviation = %.2e\" %(usediter,rdev))\n",
    "print(\"approximation error = %.8e\"%(errlast))\n",
    "\n",
    "y,b = rx.coef()\n",
    "ij = np.argsort(y.imag)\n",
    "b=b[ij]\n",
    "print(\"error on symmetry property of weights using symmetric interpolation\")\n",
    "print(\"beta = -beta.conj()\")\n",
    "print(b+b[::-1].conj())\n",
    "print(\"or beta = beta.conj()\")\n",
    "print(b-b[::-1].conj())\n",
    "\n",
    "print(\"error on symmetry property of weights using symmetric interpolation and symmetrized eigenvalue problem\")\n",
    "lams = rx.getpoles(sym=True)\n",
    "ijxi = np.argsort(lams.imag)\n",
    "lams=lams[ijxi]\n",
    "print((lams+lams[::-1]).imag)"
   ]
  }
 ],
 "metadata": {
  "kernelspec": {
   "display_name": "Python 3 (ipykernel)",
   "language": "python",
   "name": "python3"
  },
  "language_info": {
   "codemirror_mode": {
    "name": "ipython",
    "version": 3
   },
   "file_extension": ".py",
   "mimetype": "text/x-python",
   "name": "python",
   "nbconvert_exporter": "python",
   "pygments_lexer": "ipython3",
   "version": "3.9.13"
  }
 },
 "nbformat": 4,
 "nbformat_minor": 5
}
